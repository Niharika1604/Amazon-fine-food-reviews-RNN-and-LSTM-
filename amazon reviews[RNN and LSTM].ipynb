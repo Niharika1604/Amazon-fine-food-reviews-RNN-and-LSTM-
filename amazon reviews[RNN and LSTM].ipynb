{
 "cells": [
  {
   "cell_type": "code",
   "execution_count": 2,
   "id": "c20a7bcf-cffd-4557-b6b6-879f5de87e59",
   "metadata": {},
   "outputs": [],
   "source": [
    "import numpy as np\n",
    "import pandas as pd\n",
    "import kagglehub\n",
    "import os\n",
    "import matplotlib.pyplot as plt\n",
    "from sklearn.utils import resample\n",
    "import re"
   ]
  },
  {
   "cell_type": "code",
   "execution_count": 3,
   "id": "c12c66ff-bc8c-4ece-a8ec-c76e3a87ead6",
   "metadata": {},
   "outputs": [
    {
     "name": "stdout",
     "output_type": "stream",
     "text": [
      "Amazon fine food reviews data set\n"
     ]
    }
   ],
   "source": [
    "#Step -1 load the data\n",
    "print(f\"Amazon fine food reviews data set\")\n",
    "path = kagglehub.dataset_download(\"snap/amazon-fine-food-reviews\")\n",
    "csv_file = os.path.join(path, \"Reviews.csv\")\n",
    "df = pd.read_csv(csv_file)"
   ]
  },
  {
   "cell_type": "code",
   "execution_count": 4,
   "id": "0931bf30-71e6-42a5-b2d4-1a80a2bf33cf",
   "metadata": {},
   "outputs": [
    {
     "data": {
      "text/html": [
       "<div>\n",
       "<style scoped>\n",
       "    .dataframe tbody tr th:only-of-type {\n",
       "        vertical-align: middle;\n",
       "    }\n",
       "\n",
       "    .dataframe tbody tr th {\n",
       "        vertical-align: top;\n",
       "    }\n",
       "\n",
       "    .dataframe thead th {\n",
       "        text-align: right;\n",
       "    }\n",
       "</style>\n",
       "<table border=\"1\" class=\"dataframe\">\n",
       "  <thead>\n",
       "    <tr style=\"text-align: right;\">\n",
       "      <th></th>\n",
       "      <th>Id</th>\n",
       "      <th>ProductId</th>\n",
       "      <th>UserId</th>\n",
       "      <th>ProfileName</th>\n",
       "      <th>HelpfulnessNumerator</th>\n",
       "      <th>HelpfulnessDenominator</th>\n",
       "      <th>Score</th>\n",
       "      <th>Time</th>\n",
       "      <th>Summary</th>\n",
       "      <th>Text</th>\n",
       "    </tr>\n",
       "  </thead>\n",
       "  <tbody>\n",
       "    <tr>\n",
       "      <th>0</th>\n",
       "      <td>1</td>\n",
       "      <td>B001E4KFG0</td>\n",
       "      <td>A3SGXH7AUHU8GW</td>\n",
       "      <td>delmartian</td>\n",
       "      <td>1</td>\n",
       "      <td>1</td>\n",
       "      <td>5</td>\n",
       "      <td>1303862400</td>\n",
       "      <td>Good Quality Dog Food</td>\n",
       "      <td>I have bought several of the Vitality canned d...</td>\n",
       "    </tr>\n",
       "    <tr>\n",
       "      <th>1</th>\n",
       "      <td>2</td>\n",
       "      <td>B00813GRG4</td>\n",
       "      <td>A1D87F6ZCVE5NK</td>\n",
       "      <td>dll pa</td>\n",
       "      <td>0</td>\n",
       "      <td>0</td>\n",
       "      <td>1</td>\n",
       "      <td>1346976000</td>\n",
       "      <td>Not as Advertised</td>\n",
       "      <td>Product arrived labeled as Jumbo Salted Peanut...</td>\n",
       "    </tr>\n",
       "  </tbody>\n",
       "</table>\n",
       "</div>"
      ],
      "text/plain": [
       "   Id   ProductId          UserId ProfileName  HelpfulnessNumerator  \\\n",
       "0   1  B001E4KFG0  A3SGXH7AUHU8GW  delmartian                     1   \n",
       "1   2  B00813GRG4  A1D87F6ZCVE5NK      dll pa                     0   \n",
       "\n",
       "   HelpfulnessDenominator  Score        Time                Summary  \\\n",
       "0                       1      5  1303862400  Good Quality Dog Food   \n",
       "1                       0      1  1346976000      Not as Advertised   \n",
       "\n",
       "                                                Text  \n",
       "0  I have bought several of the Vitality canned d...  \n",
       "1  Product arrived labeled as Jumbo Salted Peanut...  "
      ]
     },
     "execution_count": 4,
     "metadata": {},
     "output_type": "execute_result"
    }
   ],
   "source": [
    "df.head(2) # 1-2-3-4-5. review-\n",
    "#df['Score'].value_counts()"
   ]
  },
  {
   "cell_type": "code",
   "execution_count": 5,
   "id": "e6b2f102-d867-4c8e-80f2-137c37eaf592",
   "metadata": {},
   "outputs": [
    {
     "data": {
      "text/plain": [
       "['Id',\n",
       " 'ProductId',\n",
       " 'UserId',\n",
       " 'ProfileName',\n",
       " 'HelpfulnessNumerator',\n",
       " 'HelpfulnessDenominator',\n",
       " 'Score',\n",
       " 'Time',\n",
       " 'Summary',\n",
       " 'Text']"
      ]
     },
     "execution_count": 5,
     "metadata": {},
     "output_type": "execute_result"
    }
   ],
   "source": [
    "#eda  - inves\n",
    "df.shape\n",
    "df.columns.to_list()"
   ]
  },
  {
   "cell_type": "code",
   "execution_count": 6,
   "id": "6c0325dd-afc3-424d-82f0-6ae1bb4d774e",
   "metadata": {},
   "outputs": [
    {
     "name": "stdout",
     "output_type": "stream",
     "text": [
      "Total Reviews : 568454\n",
      "<class 'pandas.core.frame.DataFrame'>\n",
      "RangeIndex: 568454 entries, 0 to 568453\n",
      "Data columns (total 10 columns):\n",
      " #   Column                  Non-Null Count   Dtype \n",
      "---  ------                  --------------   ----- \n",
      " 0   Id                      568454 non-null  int64 \n",
      " 1   ProductId               568454 non-null  object\n",
      " 2   UserId                  568454 non-null  object\n",
      " 3   ProfileName             568428 non-null  object\n",
      " 4   HelpfulnessNumerator    568454 non-null  int64 \n",
      " 5   HelpfulnessDenominator  568454 non-null  int64 \n",
      " 6   Score                   568454 non-null  int64 \n",
      " 7   Time                    568454 non-null  int64 \n",
      " 8   Summary                 568427 non-null  object\n",
      " 9   Text                    568454 non-null  object\n",
      "dtypes: int64(5), object(5)\n",
      "memory usage: 43.4+ MB\n"
     ]
    },
    {
     "data": {
      "text/plain": [
       "Id                         0\n",
       "ProductId                  0\n",
       "UserId                     0\n",
       "ProfileName               26\n",
       "HelpfulnessNumerator       0\n",
       "HelpfulnessDenominator     0\n",
       "Score                      0\n",
       "Time                       0\n",
       "Summary                   27\n",
       "Text                       0\n",
       "dtype: int64"
      ]
     },
     "execution_count": 6,
     "metadata": {},
     "output_type": "execute_result"
    }
   ],
   "source": [
    "#EDa\n",
    "print(f\"Total Reviews : {len(df)}\")\n",
    "df.info()\n",
    "df.isnull().sum()"
   ]
  },
  {
   "cell_type": "code",
   "execution_count": 7,
   "id": "963bf5ab-0075-4979-924b-7d14b8818bf7",
   "metadata": {},
   "outputs": [
    {
     "name": "stdout",
     "output_type": "stream",
     "text": [
      "                                                Text  Score\n",
      "0  I have bought several of the Vitality canned d...      5\n",
      "1  Product arrived labeled as Jumbo Salted Peanut...      1\n",
      "After Cleaning data: 568454\n"
     ]
    }
   ],
   "source": [
    "df_clean = df[['Text','Score']].dropna()\n",
    "print(df_clean.head(2))\n",
    "print(f\"After Cleaning data: {len(df_clean)}\")"
   ]
  },
  {
   "cell_type": "code",
   "execution_count": 8,
   "id": "e08eea8b-1a97-4ca0-b402-52b8e1f04d85",
   "metadata": {},
   "outputs": [
    {
     "name": "stdout",
     "output_type": "stream",
     "text": [
      "rating diistribution\n",
      "Score\n",
      "1     52268\n",
      "2     29769\n",
      "3     42640\n",
      "4     80655\n",
      "5    363122\n",
      "Name: count, dtype: int64\n"
     ]
    }
   ],
   "source": [
    "print(\"rating diistribution\")\n",
    "score_counts= df_clean['Score'].value_counts().sort_index()\n",
    "print(score_counts)"
   ]
  },
  {
   "cell_type": "code",
   "execution_count": 9,
   "id": "3f8b1707-3160-4b88-9c2f-4b2aca6059c6",
   "metadata": {},
   "outputs": [
    {
     "name": "stdout",
     "output_type": "stream",
     "text": [
      "Percentages\n",
      "1 star:  9.19%\n",
      "2 star:  5.24%\n",
      "3 star:  7.50%\n",
      "4 star:  14.19%\n",
      "5 star:  63.88%\n"
     ]
    }
   ],
   "source": [
    "print(\"Percentages\")\n",
    "for score,count in score_counts.items():\n",
    "    percentage = (count/len(df_clean))*100\n",
    "    print(f\"{score} star: {percentage: .2f}%\")"
   ]
  },
  {
   "cell_type": "code",
   "execution_count": 10,
   "id": "44c51f34-2740-4a20-9ca6-3427c3c2e01a",
   "metadata": {},
   "outputs": [
    {
     "name": "stdout",
     "output_type": "stream",
     "text": [
      "Sample review analysis\n",
      "1-Star Review\n",
      "Product arrived labeled as Jumbo Salted Peanuts...the peanuts were actually small sized unsalted. Not sure if this was an error or if the vendor intended to represent the product as \"Jumbo\".\n",
      "2-Star Review\n",
      "If you are looking for the secret ingredient in Robitussin I believe I have found it.  I got this in addition to the Root Beer Extract I ordered (which was good) and made some cherry soda.  The flavor\n",
      "3-Star Review\n",
      "This seems a little more wholesome than some of the supermarket brands, but it is somewhat mushy and doesn't have quite as much flavor either.  It didn't pass muster with my kids, so I probably won't \n",
      "4-Star Review\n",
      "This is a confection that has been around a few centuries.  It is a light, pillowy citrus gelatin with nuts - in this case Filberts. And it is cut into tiny squares and then liberally coated with powd\n",
      "5-Star Review\n",
      "I have bought several of the Vitality canned dog food products and have found them all to be of good quality. The product looks more like a stew than a processed meat and it smells better. My Labrador\n"
     ]
    }
   ],
   "source": [
    "# 1 Star, 2 star, 3 star\n",
    "print(\"Sample review analysis\")\n",
    "for score in [1,2,3,4,5]:\n",
    "    sample_review= df_clean[df_clean['Score']==score]['Text'].iloc[0]\n",
    "    print(f\"{score}-Star Review\")\n",
    "    print(f\"{sample_review[:200]}\")"
   ]
  },
  {
   "cell_type": "code",
   "execution_count": 11,
   "id": "ef6792f3-61ee-4539-b166-e9476f40e6bf",
   "metadata": {},
   "outputs": [],
   "source": [
    "df_clean['text_length'] = df_clean['Text'].str.len()\n",
    "df_clean['word_count'] = df_clean['Text'].str.split().str.len()"
   ]
  },
  {
   "cell_type": "code",
   "execution_count": 12,
   "id": "bb2c4103-974a-4b65-9404-046c2f877459",
   "metadata": {},
   "outputs": [
    {
     "data": {
      "text/html": [
       "<div>\n",
       "<style scoped>\n",
       "    .dataframe tbody tr th:only-of-type {\n",
       "        vertical-align: middle;\n",
       "    }\n",
       "\n",
       "    .dataframe tbody tr th {\n",
       "        vertical-align: top;\n",
       "    }\n",
       "\n",
       "    .dataframe thead th {\n",
       "        text-align: right;\n",
       "    }\n",
       "</style>\n",
       "<table border=\"1\" class=\"dataframe\">\n",
       "  <thead>\n",
       "    <tr style=\"text-align: right;\">\n",
       "      <th></th>\n",
       "      <th>Text</th>\n",
       "      <th>Score</th>\n",
       "      <th>text_length</th>\n",
       "      <th>word_count</th>\n",
       "    </tr>\n",
       "  </thead>\n",
       "  <tbody>\n",
       "    <tr>\n",
       "      <th>0</th>\n",
       "      <td>I have bought several of the Vitality canned d...</td>\n",
       "      <td>5</td>\n",
       "      <td>263</td>\n",
       "      <td>48</td>\n",
       "    </tr>\n",
       "    <tr>\n",
       "      <th>1</th>\n",
       "      <td>Product arrived labeled as Jumbo Salted Peanut...</td>\n",
       "      <td>1</td>\n",
       "      <td>190</td>\n",
       "      <td>31</td>\n",
       "    </tr>\n",
       "    <tr>\n",
       "      <th>2</th>\n",
       "      <td>This is a confection that has been around a fe...</td>\n",
       "      <td>4</td>\n",
       "      <td>509</td>\n",
       "      <td>94</td>\n",
       "    </tr>\n",
       "    <tr>\n",
       "      <th>3</th>\n",
       "      <td>If you are looking for the secret ingredient i...</td>\n",
       "      <td>2</td>\n",
       "      <td>219</td>\n",
       "      <td>41</td>\n",
       "    </tr>\n",
       "    <tr>\n",
       "      <th>4</th>\n",
       "      <td>Great taffy at a great price.  There was a wid...</td>\n",
       "      <td>5</td>\n",
       "      <td>140</td>\n",
       "      <td>27</td>\n",
       "    </tr>\n",
       "    <tr>\n",
       "      <th>...</th>\n",
       "      <td>...</td>\n",
       "      <td>...</td>\n",
       "      <td>...</td>\n",
       "      <td>...</td>\n",
       "    </tr>\n",
       "    <tr>\n",
       "      <th>568449</th>\n",
       "      <td>Great for sesame chicken..this is a good if no...</td>\n",
       "      <td>5</td>\n",
       "      <td>149</td>\n",
       "      <td>26</td>\n",
       "    </tr>\n",
       "    <tr>\n",
       "      <th>568450</th>\n",
       "      <td>I'm disappointed with the flavor. The chocolat...</td>\n",
       "      <td>2</td>\n",
       "      <td>252</td>\n",
       "      <td>46</td>\n",
       "    </tr>\n",
       "    <tr>\n",
       "      <th>568451</th>\n",
       "      <td>These stars are small, so you can give 10-15 o...</td>\n",
       "      <td>5</td>\n",
       "      <td>372</td>\n",
       "      <td>66</td>\n",
       "    </tr>\n",
       "    <tr>\n",
       "      <th>568452</th>\n",
       "      <td>These are the BEST treats for training and rew...</td>\n",
       "      <td>5</td>\n",
       "      <td>200</td>\n",
       "      <td>35</td>\n",
       "    </tr>\n",
       "    <tr>\n",
       "      <th>568453</th>\n",
       "      <td>I am very satisfied ,product is as advertised,...</td>\n",
       "      <td>5</td>\n",
       "      <td>111</td>\n",
       "      <td>21</td>\n",
       "    </tr>\n",
       "  </tbody>\n",
       "</table>\n",
       "<p>568454 rows × 4 columns</p>\n",
       "</div>"
      ],
      "text/plain": [
       "                                                     Text  Score  text_length  \\\n",
       "0       I have bought several of the Vitality canned d...      5          263   \n",
       "1       Product arrived labeled as Jumbo Salted Peanut...      1          190   \n",
       "2       This is a confection that has been around a fe...      4          509   \n",
       "3       If you are looking for the secret ingredient i...      2          219   \n",
       "4       Great taffy at a great price.  There was a wid...      5          140   \n",
       "...                                                   ...    ...          ...   \n",
       "568449  Great for sesame chicken..this is a good if no...      5          149   \n",
       "568450  I'm disappointed with the flavor. The chocolat...      2          252   \n",
       "568451  These stars are small, so you can give 10-15 o...      5          372   \n",
       "568452  These are the BEST treats for training and rew...      5          200   \n",
       "568453  I am very satisfied ,product is as advertised,...      5          111   \n",
       "\n",
       "        word_count  \n",
       "0               48  \n",
       "1               31  \n",
       "2               94  \n",
       "3               41  \n",
       "4               27  \n",
       "...            ...  \n",
       "568449          26  \n",
       "568450          46  \n",
       "568451          66  \n",
       "568452          35  \n",
       "568453          21  \n",
       "\n",
       "[568454 rows x 4 columns]"
      ]
     },
     "execution_count": 12,
     "metadata": {},
     "output_type": "execute_result"
    }
   ],
   "source": [
    "df_clean"
   ]
  },
  {
   "cell_type": "code",
   "execution_count": 13,
   "id": "90db8a30-e57e-45be-aa9d-c190297f8b38",
   "metadata": {},
   "outputs": [
    {
     "data": {
      "image/png": "[encoded data removed]",
      "text/plain": [
       "<Figure size 1800x600 with 3 Axes>"
      ]
     },
     "metadata": {},
     "output_type": "display_data"
    }
   ],
   "source": [
    "#sizing the canvas\n",
    "plt.figure(figsize=(18,6))\n",
    "\n",
    "#plot-1 Rating distribbution\n",
    "plt.subplot(1,3,1)\n",
    "score_counts.plot(kind='bar',color='skyblue',alpha=0.8)\n",
    "plt.title(\"Rating Distribution\",fontsize=14)\n",
    "plt.xlabel(\"Rating (Stars)\")\n",
    "plt.xticks(rotation=0)\n",
    "plt.ylabel(\"Number of Reviews\")\n",
    "for idx, val in enumerate(score_counts.values):\n",
    "  plt.text(idx,val+5000, f\"{val: }\", ha='center',fontweight='bold')\n",
    "\n",
    "#plot-2 text length dist\n",
    "plt.subplot(1,3,2)\n",
    "plt.hist(df_clean['text_length'], bins=50, alpha=0.7, color='lightgreen', edgecolor='red')\n",
    "plt.title(\"Text Length Dist\",fontweight='bold')\n",
    "plt.xlabel(\"Num of char\")\n",
    "plt.ylabel(\"Freq\")\n",
    "plt.axvline(df_clean['text_length'].mean(), color='black',linestyle=\"--\",\n",
    "            label=f\"Mean: {df_clean['text_length'].mean()}\")\n",
    "plt.legend()\n",
    "\n",
    "#plot-3 word count dist\n",
    "plt.subplot(1,3,3)\n",
    "plt.hist(df_clean['word_count'], bins=50, alpha=0.7, color='lightgreen', edgecolor='red')\n",
    "plt.title(\"word count Dist\",fontweight='bold')\n",
    "plt.xlabel(\"Num of words\")\n",
    "plt.ylabel(\"Freq\")\n",
    "plt.axvline(df_clean['word_count'].mean(), color='black',linestyle=\"--\",\n",
    "            label=f\"Mean: {df_clean['word_count'].mean()}\")\n",
    "plt.legend()\n",
    "\n",
    "plt.tight_layout()"
   ]
  },
  {
   "cell_type": "code",
   "execution_count": 14,
   "id": "d02068c6-ec74-47da-85d2-dca223062f67",
   "metadata": {},
   "outputs": [
    {
     "data": {
      "text/html": [
       "<div>\n",
       "<style scoped>\n",
       "    .dataframe tbody tr th:only-of-type {\n",
       "        vertical-align: middle;\n",
       "    }\n",
       "\n",
       "    .dataframe tbody tr th {\n",
       "        vertical-align: top;\n",
       "    }\n",
       "\n",
       "    .dataframe thead th {\n",
       "        text-align: right;\n",
       "    }\n",
       "</style>\n",
       "<table border=\"1\" class=\"dataframe\">\n",
       "  <thead>\n",
       "    <tr style=\"text-align: right;\">\n",
       "      <th></th>\n",
       "      <th>Text</th>\n",
       "      <th>Score</th>\n",
       "      <th>text_length</th>\n",
       "      <th>word_count</th>\n",
       "    </tr>\n",
       "  </thead>\n",
       "  <tbody>\n",
       "    <tr>\n",
       "      <th>0</th>\n",
       "      <td>I have bought several of the Vitality canned d...</td>\n",
       "      <td>5</td>\n",
       "      <td>263</td>\n",
       "      <td>48</td>\n",
       "    </tr>\n",
       "    <tr>\n",
       "      <th>1</th>\n",
       "      <td>Product arrived labeled as Jumbo Salted Peanut...</td>\n",
       "      <td>1</td>\n",
       "      <td>190</td>\n",
       "      <td>31</td>\n",
       "    </tr>\n",
       "  </tbody>\n",
       "</table>\n",
       "</div>"
      ],
      "text/plain": [
       "                                                Text  Score  text_length  \\\n",
       "0  I have bought several of the Vitality canned d...      5          263   \n",
       "1  Product arrived labeled as Jumbo Salted Peanut...      1          190   \n",
       "\n",
       "   word_count  \n",
       "0          48  \n",
       "1          31  "
      ]
     },
     "execution_count": 14,
     "metadata": {},
     "output_type": "execute_result"
    }
   ],
   "source": [
    "df_clean.head(2)"
   ]
  },
  {
   "cell_type": "code",
   "execution_count": 15,
   "id": "6d7751fd-58c0-4d76-913b-756964994f84",
   "metadata": {},
   "outputs": [
    {
     "data": {
      "text/html": [
       "<div>\n",
       "<style scoped>\n",
       "    .dataframe tbody tr th:only-of-type {\n",
       "        vertical-align: middle;\n",
       "    }\n",
       "\n",
       "    .dataframe tbody tr th {\n",
       "        vertical-align: top;\n",
       "    }\n",
       "\n",
       "    .dataframe thead th {\n",
       "        text-align: right;\n",
       "    }\n",
       "</style>\n",
       "<table border=\"1\" class=\"dataframe\">\n",
       "  <thead>\n",
       "    <tr style=\"text-align: right;\">\n",
       "      <th></th>\n",
       "      <th>Text</th>\n",
       "      <th>Score</th>\n",
       "      <th>text_length</th>\n",
       "      <th>word_count</th>\n",
       "    </tr>\n",
       "  </thead>\n",
       "  <tbody>\n",
       "    <tr>\n",
       "      <th>0</th>\n",
       "      <td>I have bought several of the Vitality canned d...</td>\n",
       "      <td>5</td>\n",
       "      <td>263</td>\n",
       "      <td>48</td>\n",
       "    </tr>\n",
       "    <tr>\n",
       "      <th>1</th>\n",
       "      <td>Product arrived labeled as Jumbo Salted Peanut...</td>\n",
       "      <td>1</td>\n",
       "      <td>190</td>\n",
       "      <td>31</td>\n",
       "    </tr>\n",
       "    <tr>\n",
       "      <th>2</th>\n",
       "      <td>This is a confection that has been around a fe...</td>\n",
       "      <td>4</td>\n",
       "      <td>509</td>\n",
       "      <td>94</td>\n",
       "    </tr>\n",
       "    <tr>\n",
       "      <th>3</th>\n",
       "      <td>If you are looking for the secret ingredient i...</td>\n",
       "      <td>2</td>\n",
       "      <td>219</td>\n",
       "      <td>41</td>\n",
       "    </tr>\n",
       "    <tr>\n",
       "      <th>4</th>\n",
       "      <td>Great taffy at a great price.  There was a wid...</td>\n",
       "      <td>5</td>\n",
       "      <td>140</td>\n",
       "      <td>27</td>\n",
       "    </tr>\n",
       "    <tr>\n",
       "      <th>...</th>\n",
       "      <td>...</td>\n",
       "      <td>...</td>\n",
       "      <td>...</td>\n",
       "      <td>...</td>\n",
       "    </tr>\n",
       "    <tr>\n",
       "      <th>568449</th>\n",
       "      <td>Great for sesame chicken..this is a good if no...</td>\n",
       "      <td>5</td>\n",
       "      <td>149</td>\n",
       "      <td>26</td>\n",
       "    </tr>\n",
       "    <tr>\n",
       "      <th>568450</th>\n",
       "      <td>I'm disappointed with the flavor. The chocolat...</td>\n",
       "      <td>2</td>\n",
       "      <td>252</td>\n",
       "      <td>46</td>\n",
       "    </tr>\n",
       "    <tr>\n",
       "      <th>568451</th>\n",
       "      <td>These stars are small, so you can give 10-15 o...</td>\n",
       "      <td>5</td>\n",
       "      <td>372</td>\n",
       "      <td>66</td>\n",
       "    </tr>\n",
       "    <tr>\n",
       "      <th>568452</th>\n",
       "      <td>These are the BEST treats for training and rew...</td>\n",
       "      <td>5</td>\n",
       "      <td>200</td>\n",
       "      <td>35</td>\n",
       "    </tr>\n",
       "    <tr>\n",
       "      <th>568453</th>\n",
       "      <td>I am very satisfied ,product is as advertised,...</td>\n",
       "      <td>5</td>\n",
       "      <td>111</td>\n",
       "      <td>21</td>\n",
       "    </tr>\n",
       "  </tbody>\n",
       "</table>\n",
       "<p>525814 rows × 4 columns</p>\n",
       "</div>"
      ],
      "text/plain": [
       "                                                     Text  Score  text_length  \\\n",
       "0       I have bought several of the Vitality canned d...      5          263   \n",
       "1       Product arrived labeled as Jumbo Salted Peanut...      1          190   \n",
       "2       This is a confection that has been around a fe...      4          509   \n",
       "3       If you are looking for the secret ingredient i...      2          219   \n",
       "4       Great taffy at a great price.  There was a wid...      5          140   \n",
       "...                                                   ...    ...          ...   \n",
       "568449  Great for sesame chicken..this is a good if no...      5          149   \n",
       "568450  I'm disappointed with the flavor. The chocolat...      2          252   \n",
       "568451  These stars are small, so you can give 10-15 o...      5          372   \n",
       "568452  These are the BEST treats for training and rew...      5          200   \n",
       "568453  I am very satisfied ,product is as advertised,...      5          111   \n",
       "\n",
       "        word_count  \n",
       "0               48  \n",
       "1               31  \n",
       "2               94  \n",
       "3               41  \n",
       "4               27  \n",
       "...            ...  \n",
       "568449          26  \n",
       "568450          46  \n",
       "568451          66  \n",
       "568452          35  \n",
       "568453          21  \n",
       "\n",
       "[525814 rows x 4 columns]"
      ]
     },
     "execution_count": 15,
     "metadata": {},
     "output_type": "execute_result"
    }
   ],
   "source": [
    "#convert the problem statement to binary classification problem\n",
    "#->any review which is 1 or 2 that is negative, 3 is neutral, 4 5 are positive\n",
    "df_binary = df_clean[df_clean['Score'] !=3].copy()\n",
    "df_binary"
   ]
  },
  {
   "cell_type": "code",
   "execution_count": 16,
   "id": "3290225e-692b-4623-9813-24b066a8aeec",
   "metadata": {},
   "outputs": [],
   "source": [
    "df_binary['sentiment'] = (df_binary['Score'] >=4).astype(int)"
   ]
  },
  {
   "cell_type": "code",
   "execution_count": 17,
   "id": "7df79fc0-0738-4b43-9040-85bcf73565a7",
   "metadata": {},
   "outputs": [
    {
     "data": {
      "text/html": [
       "<div>\n",
       "<style scoped>\n",
       "    .dataframe tbody tr th:only-of-type {\n",
       "        vertical-align: middle;\n",
       "    }\n",
       "\n",
       "    .dataframe tbody tr th {\n",
       "        vertical-align: top;\n",
       "    }\n",
       "\n",
       "    .dataframe thead th {\n",
       "        text-align: right;\n",
       "    }\n",
       "</style>\n",
       "<table border=\"1\" class=\"dataframe\">\n",
       "  <thead>\n",
       "    <tr style=\"text-align: right;\">\n",
       "      <th></th>\n",
       "      <th>Text</th>\n",
       "      <th>Score</th>\n",
       "      <th>text_length</th>\n",
       "      <th>word_count</th>\n",
       "      <th>sentiment</th>\n",
       "    </tr>\n",
       "  </thead>\n",
       "  <tbody>\n",
       "    <tr>\n",
       "      <th>0</th>\n",
       "      <td>I have bought several of the Vitality canned d...</td>\n",
       "      <td>5</td>\n",
       "      <td>263</td>\n",
       "      <td>48</td>\n",
       "      <td>1</td>\n",
       "    </tr>\n",
       "    <tr>\n",
       "      <th>1</th>\n",
       "      <td>Product arrived labeled as Jumbo Salted Peanut...</td>\n",
       "      <td>1</td>\n",
       "      <td>190</td>\n",
       "      <td>31</td>\n",
       "      <td>0</td>\n",
       "    </tr>\n",
       "    <tr>\n",
       "      <th>2</th>\n",
       "      <td>This is a confection that has been around a fe...</td>\n",
       "      <td>4</td>\n",
       "      <td>509</td>\n",
       "      <td>94</td>\n",
       "      <td>1</td>\n",
       "    </tr>\n",
       "    <tr>\n",
       "      <th>3</th>\n",
       "      <td>If you are looking for the secret ingredient i...</td>\n",
       "      <td>2</td>\n",
       "      <td>219</td>\n",
       "      <td>41</td>\n",
       "      <td>0</td>\n",
       "    </tr>\n",
       "    <tr>\n",
       "      <th>4</th>\n",
       "      <td>Great taffy at a great price.  There was a wid...</td>\n",
       "      <td>5</td>\n",
       "      <td>140</td>\n",
       "      <td>27</td>\n",
       "      <td>1</td>\n",
       "    </tr>\n",
       "    <tr>\n",
       "      <th>...</th>\n",
       "      <td>...</td>\n",
       "      <td>...</td>\n",
       "      <td>...</td>\n",
       "      <td>...</td>\n",
       "      <td>...</td>\n",
       "    </tr>\n",
       "    <tr>\n",
       "      <th>568449</th>\n",
       "      <td>Great for sesame chicken..this is a good if no...</td>\n",
       "      <td>5</td>\n",
       "      <td>149</td>\n",
       "      <td>26</td>\n",
       "      <td>1</td>\n",
       "    </tr>\n",
       "    <tr>\n",
       "      <th>568450</th>\n",
       "      <td>I'm disappointed with the flavor. The chocolat...</td>\n",
       "      <td>2</td>\n",
       "      <td>252</td>\n",
       "      <td>46</td>\n",
       "      <td>0</td>\n",
       "    </tr>\n",
       "    <tr>\n",
       "      <th>568451</th>\n",
       "      <td>These stars are small, so you can give 10-15 o...</td>\n",
       "      <td>5</td>\n",
       "      <td>372</td>\n",
       "      <td>66</td>\n",
       "      <td>1</td>\n",
       "    </tr>\n",
       "    <tr>\n",
       "      <th>568452</th>\n",
       "      <td>These are the BEST treats for training and rew...</td>\n",
       "      <td>5</td>\n",
       "      <td>200</td>\n",
       "      <td>35</td>\n",
       "      <td>1</td>\n",
       "    </tr>\n",
       "    <tr>\n",
       "      <th>568453</th>\n",
       "      <td>I am very satisfied ,product is as advertised,...</td>\n",
       "      <td>5</td>\n",
       "      <td>111</td>\n",
       "      <td>21</td>\n",
       "      <td>1</td>\n",
       "    </tr>\n",
       "  </tbody>\n",
       "</table>\n",
       "<p>525814 rows × 5 columns</p>\n",
       "</div>"
      ],
      "text/plain": [
       "                                                     Text  Score  text_length  \\\n",
       "0       I have bought several of the Vitality canned d...      5          263   \n",
       "1       Product arrived labeled as Jumbo Salted Peanut...      1          190   \n",
       "2       This is a confection that has been around a fe...      4          509   \n",
       "3       If you are looking for the secret ingredient i...      2          219   \n",
       "4       Great taffy at a great price.  There was a wid...      5          140   \n",
       "...                                                   ...    ...          ...   \n",
       "568449  Great for sesame chicken..this is a good if no...      5          149   \n",
       "568450  I'm disappointed with the flavor. The chocolat...      2          252   \n",
       "568451  These stars are small, so you can give 10-15 o...      5          372   \n",
       "568452  These are the BEST treats for training and rew...      5          200   \n",
       "568453  I am very satisfied ,product is as advertised,...      5          111   \n",
       "\n",
       "        word_count  sentiment  \n",
       "0               48          1  \n",
       "1               31          0  \n",
       "2               94          1  \n",
       "3               41          0  \n",
       "4               27          1  \n",
       "...            ...        ...  \n",
       "568449          26          1  \n",
       "568450          46          0  \n",
       "568451          66          1  \n",
       "568452          35          1  \n",
       "568453          21          1  \n",
       "\n",
       "[525814 rows x 5 columns]"
      ]
     },
     "execution_count": 17,
     "metadata": {},
     "output_type": "execute_result"
    }
   ],
   "source": [
    "df_binary"
   ]
  },
  {
   "cell_type": "code",
   "execution_count": 18,
   "id": "db59c521-700f-4f79-9525-8632a2540d56",
   "metadata": {},
   "outputs": [
    {
     "name": "stdout",
     "output_type": "stream",
     "text": [
      "Negative (1-2 star): 82,037\n",
      "Positive (4-5 star): 443,777\n"
     ]
    }
   ],
   "source": [
    "#distribution\n",
    "print(f\"Negative (1-2 star): {sum(df_binary['sentiment']==0):,}\")\n",
    "print(f\"Positive (4-5 star): {sum(df_binary['sentiment']==1):,}\")"
   ]
  },
  {
   "cell_type": "code",
   "execution_count": 19,
   "id": "0d50f92d-a7a3-460e-92df-b64f0afdb4e6",
   "metadata": {},
   "outputs": [
    {
     "name": "stdout",
     "output_type": "stream",
     "text": [
      "negative_pct: 15.601904856089796\n",
      "positive_pct: 84.3980951439102\n",
      "data is highly skewed towards positive reviews\n"
     ]
    }
   ],
   "source": [
    "#check imbalance\n",
    "negative_pct= (sum(df_binary['sentiment']==0)/len(df_binary))*100\n",
    "positive_pct= (sum(df_binary['sentiment']==1)/len(df_binary))*100\n",
    "print(f\"negative_pct: {negative_pct}\")\n",
    "print(f\"positive_pct: {positive_pct}\")\n",
    "\n",
    "if positive_pct>70:\n",
    "    print(f\"data is highly skewed towards positive reviews\")"
   ]
  },
  {
   "cell_type": "code",
   "execution_count": 20,
   "id": "66c7e1c1-1726-425f-b16b-9324db15584a",
   "metadata": {},
   "outputs": [
    {
     "data": {
      "text/html": [
       "<div>\n",
       "<style scoped>\n",
       "    .dataframe tbody tr th:only-of-type {\n",
       "        vertical-align: middle;\n",
       "    }\n",
       "\n",
       "    .dataframe tbody tr th {\n",
       "        vertical-align: top;\n",
       "    }\n",
       "\n",
       "    .dataframe thead th {\n",
       "        text-align: right;\n",
       "    }\n",
       "</style>\n",
       "<table border=\"1\" class=\"dataframe\">\n",
       "  <thead>\n",
       "    <tr style=\"text-align: right;\">\n",
       "      <th></th>\n",
       "      <th>Text</th>\n",
       "      <th>Score</th>\n",
       "      <th>text_length</th>\n",
       "      <th>word_count</th>\n",
       "      <th>sentiment</th>\n",
       "    </tr>\n",
       "  </thead>\n",
       "  <tbody>\n",
       "    <tr>\n",
       "      <th>0</th>\n",
       "      <td>I have bought several of the Vitality canned d...</td>\n",
       "      <td>5</td>\n",
       "      <td>263</td>\n",
       "      <td>48</td>\n",
       "      <td>1</td>\n",
       "    </tr>\n",
       "    <tr>\n",
       "      <th>1</th>\n",
       "      <td>Product arrived labeled as Jumbo Salted Peanut...</td>\n",
       "      <td>1</td>\n",
       "      <td>190</td>\n",
       "      <td>31</td>\n",
       "      <td>0</td>\n",
       "    </tr>\n",
       "    <tr>\n",
       "      <th>2</th>\n",
       "      <td>This is a confection that has been around a fe...</td>\n",
       "      <td>4</td>\n",
       "      <td>509</td>\n",
       "      <td>94</td>\n",
       "      <td>1</td>\n",
       "    </tr>\n",
       "    <tr>\n",
       "      <th>3</th>\n",
       "      <td>If you are looking for the secret ingredient i...</td>\n",
       "      <td>2</td>\n",
       "      <td>219</td>\n",
       "      <td>41</td>\n",
       "      <td>0</td>\n",
       "    </tr>\n",
       "    <tr>\n",
       "      <th>4</th>\n",
       "      <td>Great taffy at a great price.  There was a wid...</td>\n",
       "      <td>5</td>\n",
       "      <td>140</td>\n",
       "      <td>27</td>\n",
       "      <td>1</td>\n",
       "    </tr>\n",
       "    <tr>\n",
       "      <th>...</th>\n",
       "      <td>...</td>\n",
       "      <td>...</td>\n",
       "      <td>...</td>\n",
       "      <td>...</td>\n",
       "      <td>...</td>\n",
       "    </tr>\n",
       "    <tr>\n",
       "      <th>568449</th>\n",
       "      <td>Great for sesame chicken..this is a good if no...</td>\n",
       "      <td>5</td>\n",
       "      <td>149</td>\n",
       "      <td>26</td>\n",
       "      <td>1</td>\n",
       "    </tr>\n",
       "    <tr>\n",
       "      <th>568450</th>\n",
       "      <td>I'm disappointed with the flavor. The chocolat...</td>\n",
       "      <td>2</td>\n",
       "      <td>252</td>\n",
       "      <td>46</td>\n",
       "      <td>0</td>\n",
       "    </tr>\n",
       "    <tr>\n",
       "      <th>568451</th>\n",
       "      <td>These stars are small, so you can give 10-15 o...</td>\n",
       "      <td>5</td>\n",
       "      <td>372</td>\n",
       "      <td>66</td>\n",
       "      <td>1</td>\n",
       "    </tr>\n",
       "    <tr>\n",
       "      <th>568452</th>\n",
       "      <td>These are the BEST treats for training and rew...</td>\n",
       "      <td>5</td>\n",
       "      <td>200</td>\n",
       "      <td>35</td>\n",
       "      <td>1</td>\n",
       "    </tr>\n",
       "    <tr>\n",
       "      <th>568453</th>\n",
       "      <td>I am very satisfied ,product is as advertised,...</td>\n",
       "      <td>5</td>\n",
       "      <td>111</td>\n",
       "      <td>21</td>\n",
       "      <td>1</td>\n",
       "    </tr>\n",
       "  </tbody>\n",
       "</table>\n",
       "<p>525814 rows × 5 columns</p>\n",
       "</div>"
      ],
      "text/plain": [
       "                                                     Text  Score  text_length  \\\n",
       "0       I have bought several of the Vitality canned d...      5          263   \n",
       "1       Product arrived labeled as Jumbo Salted Peanut...      1          190   \n",
       "2       This is a confection that has been around a fe...      4          509   \n",
       "3       If you are looking for the secret ingredient i...      2          219   \n",
       "4       Great taffy at a great price.  There was a wid...      5          140   \n",
       "...                                                   ...    ...          ...   \n",
       "568449  Great for sesame chicken..this is a good if no...      5          149   \n",
       "568450  I'm disappointed with the flavor. The chocolat...      2          252   \n",
       "568451  These stars are small, so you can give 10-15 o...      5          372   \n",
       "568452  These are the BEST treats for training and rew...      5          200   \n",
       "568453  I am very satisfied ,product is as advertised,...      5          111   \n",
       "\n",
       "        word_count  sentiment  \n",
       "0               48          1  \n",
       "1               31          0  \n",
       "2               94          1  \n",
       "3               41          0  \n",
       "4               27          1  \n",
       "...            ...        ...  \n",
       "568449          26          1  \n",
       "568450          46          0  \n",
       "568451          66          1  \n",
       "568452          35          1  \n",
       "568453          21          1  \n",
       "\n",
       "[525814 rows x 5 columns]"
      ]
     },
     "execution_count": 20,
     "metadata": {},
     "output_type": "execute_result"
    }
   ],
   "source": [
    "df_binary"
   ]
  },
  {
   "cell_type": "code",
   "execution_count": 21,
   "id": "d2d66381-4bff-4175-8d4b-67d60e06cb59",
   "metadata": {},
   "outputs": [
    {
     "name": "stdout",
     "output_type": "stream",
     "text": [
      "Original imbalance\n",
      "Negative: 82,037 (15.601904856089796)\n",
      "Positive: 443,777 (84.3980951439102)\n"
     ]
    }
   ],
   "source": [
    "#handle imbalance\n",
    "from sklearn.utils import resample\n",
    "negative_reviews= df_binary[df_binary['sentiment']==0]\n",
    "positive_reviews= df_binary[df_binary['sentiment']==1] \n",
    "\n",
    "print(f\"Original imbalance\")\n",
    "print(f\"Negative: {len(negative_reviews):,} ({len(negative_reviews)/len(df_binary)*100})\" )\n",
    "print(f\"Positive: {len(positive_reviews):,} ({len(positive_reviews)/len(df_binary)*100})\" )"
   ]
  },
  {
   "cell_type": "markdown",
   "id": "00fac441-dc17-4273-b1b0-12baefe428f8",
   "metadata": {},
   "source": [
    "**UNDERSAMPLING**"
   ]
  },
  {
   "cell_type": "code",
   "execution_count": 23,
   "id": "29453c0f-4f67-4a3d-a9e6-ded7fb827a3d",
   "metadata": {},
   "outputs": [
    {
     "data": {
      "text/html": [
       "<div>\n",
       "<style scoped>\n",
       "    .dataframe tbody tr th:only-of-type {\n",
       "        vertical-align: middle;\n",
       "    }\n",
       "\n",
       "    .dataframe tbody tr th {\n",
       "        vertical-align: top;\n",
       "    }\n",
       "\n",
       "    .dataframe thead th {\n",
       "        text-align: right;\n",
       "    }\n",
       "</style>\n",
       "<table border=\"1\" class=\"dataframe\">\n",
       "  <thead>\n",
       "    <tr style=\"text-align: right;\">\n",
       "      <th></th>\n",
       "      <th>Text</th>\n",
       "      <th>Score</th>\n",
       "      <th>text_length</th>\n",
       "      <th>word_count</th>\n",
       "      <th>sentiment</th>\n",
       "    </tr>\n",
       "  </thead>\n",
       "  <tbody>\n",
       "    <tr>\n",
       "      <th>1</th>\n",
       "      <td>Product arrived labeled as Jumbo Salted Peanut...</td>\n",
       "      <td>1</td>\n",
       "      <td>190</td>\n",
       "      <td>31</td>\n",
       "      <td>0</td>\n",
       "    </tr>\n",
       "    <tr>\n",
       "      <th>3</th>\n",
       "      <td>If you are looking for the secret ingredient i...</td>\n",
       "      <td>2</td>\n",
       "      <td>219</td>\n",
       "      <td>41</td>\n",
       "      <td>0</td>\n",
       "    </tr>\n",
       "    <tr>\n",
       "      <th>12</th>\n",
       "      <td>My cats have been happily eating Felidae Plati...</td>\n",
       "      <td>1</td>\n",
       "      <td>399</td>\n",
       "      <td>79</td>\n",
       "      <td>0</td>\n",
       "    </tr>\n",
       "    <tr>\n",
       "      <th>16</th>\n",
       "      <td>I love eating them and they are good for watch...</td>\n",
       "      <td>2</td>\n",
       "      <td>195</td>\n",
       "      <td>42</td>\n",
       "      <td>0</td>\n",
       "    </tr>\n",
       "    <tr>\n",
       "      <th>26</th>\n",
       "      <td>The candy is just red , No flavor . Just  plan...</td>\n",
       "      <td>1</td>\n",
       "      <td>88</td>\n",
       "      <td>20</td>\n",
       "      <td>0</td>\n",
       "    </tr>\n",
       "    <tr>\n",
       "      <th>...</th>\n",
       "      <td>...</td>\n",
       "      <td>...</td>\n",
       "      <td>...</td>\n",
       "      <td>...</td>\n",
       "      <td>...</td>\n",
       "    </tr>\n",
       "    <tr>\n",
       "      <th>58341</th>\n",
       "      <td>Love to make Apple pies out of this product bu...</td>\n",
       "      <td>4</td>\n",
       "      <td>127</td>\n",
       "      <td>25</td>\n",
       "      <td>1</td>\n",
       "    </tr>\n",
       "    <tr>\n",
       "      <th>347959</th>\n",
       "      <td>Our vet recommends them to help keep our puppy...</td>\n",
       "      <td>5</td>\n",
       "      <td>174</td>\n",
       "      <td>31</td>\n",
       "      <td>1</td>\n",
       "    </tr>\n",
       "    <tr>\n",
       "      <th>498846</th>\n",
       "      <td>I love Planters Mixed nuts! I gave them up bec...</td>\n",
       "      <td>5</td>\n",
       "      <td>171</td>\n",
       "      <td>36</td>\n",
       "      <td>1</td>\n",
       "    </tr>\n",
       "    <tr>\n",
       "      <th>390538</th>\n",
       "      <td>I had never tried Coffee Bean &amp; Tea Leaf befor...</td>\n",
       "      <td>5</td>\n",
       "      <td>758</td>\n",
       "      <td>149</td>\n",
       "      <td>1</td>\n",
       "    </tr>\n",
       "    <tr>\n",
       "      <th>320641</th>\n",
       "      <td>My beagle puppy and  his vet love it -- he is ...</td>\n",
       "      <td>5</td>\n",
       "      <td>171</td>\n",
       "      <td>39</td>\n",
       "      <td>1</td>\n",
       "    </tr>\n",
       "  </tbody>\n",
       "</table>\n",
       "<p>164074 rows × 5 columns</p>\n",
       "</div>"
      ],
      "text/plain": [
       "                                                     Text  Score  text_length  \\\n",
       "1       Product arrived labeled as Jumbo Salted Peanut...      1          190   \n",
       "3       If you are looking for the secret ingredient i...      2          219   \n",
       "12      My cats have been happily eating Felidae Plati...      1          399   \n",
       "16      I love eating them and they are good for watch...      2          195   \n",
       "26      The candy is just red , No flavor . Just  plan...      1           88   \n",
       "...                                                   ...    ...          ...   \n",
       "58341   Love to make Apple pies out of this product bu...      4          127   \n",
       "347959  Our vet recommends them to help keep our puppy...      5          174   \n",
       "498846  I love Planters Mixed nuts! I gave them up bec...      5          171   \n",
       "390538  I had never tried Coffee Bean & Tea Leaf befor...      5          758   \n",
       "320641  My beagle puppy and  his vet love it -- he is ...      5          171   \n",
       "\n",
       "        word_count  sentiment  \n",
       "1               31          0  \n",
       "3               41          0  \n",
       "12              79          0  \n",
       "16              42          0  \n",
       "26              20          0  \n",
       "...            ...        ...  \n",
       "58341           25          1  \n",
       "347959          31          1  \n",
       "498846          36          1  \n",
       "390538         149          1  \n",
       "320641          39          1  \n",
       "\n",
       "[164074 rows x 5 columns]"
      ]
     },
     "execution_count": 23,
     "metadata": {},
     "output_type": "execute_result"
    }
   ],
   "source": [
    "#we are going to undersample the majority class to match the minority class\n",
    "n_minority= len(negative_reviews)\n",
    "\n",
    "positive_downsampled = resample(positive_reviews,\n",
    "                               replace=False, #sample without replacement\n",
    "                               n_samples=n_minority,\n",
    "                               random_state=21)\n",
    "\n",
    "#df_balanced\n",
    "df_balanced= pd.concat([negative_reviews, positive_downsampled])\n",
    "\n",
    "df_balanced"
   ]
  },
  {
   "cell_type": "code",
   "execution_count": 24,
   "id": "a9584473-a3a3-4953-a2e6-a2978988d894",
   "metadata": {},
   "outputs": [
    {
     "data": {
      "text/html": [
       "<div>\n",
       "<style scoped>\n",
       "    .dataframe tbody tr th:only-of-type {\n",
       "        vertical-align: middle;\n",
       "    }\n",
       "\n",
       "    .dataframe tbody tr th {\n",
       "        vertical-align: top;\n",
       "    }\n",
       "\n",
       "    .dataframe thead th {\n",
       "        text-align: right;\n",
       "    }\n",
       "</style>\n",
       "<table border=\"1\" class=\"dataframe\">\n",
       "  <thead>\n",
       "    <tr style=\"text-align: right;\">\n",
       "      <th></th>\n",
       "      <th>Text</th>\n",
       "      <th>Score</th>\n",
       "      <th>text_length</th>\n",
       "      <th>word_count</th>\n",
       "      <th>sentiment</th>\n",
       "    </tr>\n",
       "  </thead>\n",
       "  <tbody>\n",
       "    <tr>\n",
       "      <th>0</th>\n",
       "      <td>Our family now uses this in place of butter or...</td>\n",
       "      <td>5</td>\n",
       "      <td>323</td>\n",
       "      <td>65</td>\n",
       "      <td>1</td>\n",
       "    </tr>\n",
       "    <tr>\n",
       "      <th>1</th>\n",
       "      <td>the k- cups were thrown in an oversized box wi...</td>\n",
       "      <td>1</td>\n",
       "      <td>208</td>\n",
       "      <td>41</td>\n",
       "      <td>0</td>\n",
       "    </tr>\n",
       "    <tr>\n",
       "      <th>2</th>\n",
       "      <td>I usually go to China town whereever I happen ...</td>\n",
       "      <td>5</td>\n",
       "      <td>270</td>\n",
       "      <td>54</td>\n",
       "      <td>1</td>\n",
       "    </tr>\n",
       "    <tr>\n",
       "      <th>3</th>\n",
       "      <td>Used to buy them from Sam's Club, but they wer...</td>\n",
       "      <td>5</td>\n",
       "      <td>151</td>\n",
       "      <td>28</td>\n",
       "      <td>1</td>\n",
       "    </tr>\n",
       "    <tr>\n",
       "      <th>4</th>\n",
       "      <td>Great product, great price from amazon while u...</td>\n",
       "      <td>5</td>\n",
       "      <td>135</td>\n",
       "      <td>20</td>\n",
       "      <td>1</td>\n",
       "    </tr>\n",
       "    <tr>\n",
       "      <th>...</th>\n",
       "      <td>...</td>\n",
       "      <td>...</td>\n",
       "      <td>...</td>\n",
       "      <td>...</td>\n",
       "      <td>...</td>\n",
       "    </tr>\n",
       "    <tr>\n",
       "      <th>164069</th>\n",
       "      <td>I works fine but unless you are a commercial p...</td>\n",
       "      <td>2</td>\n",
       "      <td>244</td>\n",
       "      <td>43</td>\n",
       "      <td>0</td>\n",
       "    </tr>\n",
       "    <tr>\n",
       "      <th>164070</th>\n",
       "      <td>First, the other happy baby flavors have been ...</td>\n",
       "      <td>1</td>\n",
       "      <td>390</td>\n",
       "      <td>74</td>\n",
       "      <td>0</td>\n",
       "    </tr>\n",
       "    <tr>\n",
       "      <th>164071</th>\n",
       "      <td>We like all of the Crystal Light mixes, but fi...</td>\n",
       "      <td>5</td>\n",
       "      <td>308</td>\n",
       "      <td>58</td>\n",
       "      <td>1</td>\n",
       "    </tr>\n",
       "    <tr>\n",
       "      <th>164072</th>\n",
       "      <td>VERY Disappointing --- doesn't taste like coff...</td>\n",
       "      <td>1</td>\n",
       "      <td>148</td>\n",
       "      <td>28</td>\n",
       "      <td>0</td>\n",
       "    </tr>\n",
       "    <tr>\n",
       "      <th>164073</th>\n",
       "      <td>I ordered 3 belly flop bags about 2 months ago...</td>\n",
       "      <td>2</td>\n",
       "      <td>340</td>\n",
       "      <td>64</td>\n",
       "      <td>0</td>\n",
       "    </tr>\n",
       "  </tbody>\n",
       "</table>\n",
       "<p>164074 rows × 5 columns</p>\n",
       "</div>"
      ],
      "text/plain": [
       "                                                     Text  Score  text_length  \\\n",
       "0       Our family now uses this in place of butter or...      5          323   \n",
       "1       the k- cups were thrown in an oversized box wi...      1          208   \n",
       "2       I usually go to China town whereever I happen ...      5          270   \n",
       "3       Used to buy them from Sam's Club, but they wer...      5          151   \n",
       "4       Great product, great price from amazon while u...      5          135   \n",
       "...                                                   ...    ...          ...   \n",
       "164069  I works fine but unless you are a commercial p...      2          244   \n",
       "164070  First, the other happy baby flavors have been ...      1          390   \n",
       "164071  We like all of the Crystal Light mixes, but fi...      5          308   \n",
       "164072  VERY Disappointing --- doesn't taste like coff...      1          148   \n",
       "164073  I ordered 3 belly flop bags about 2 months ago...      2          340   \n",
       "\n",
       "        word_count  sentiment  \n",
       "0               65          1  \n",
       "1               41          0  \n",
       "2               54          1  \n",
       "3               28          1  \n",
       "4               20          1  \n",
       "...            ...        ...  \n",
       "164069          43          0  \n",
       "164070          74          0  \n",
       "164071          58          1  \n",
       "164072          28          0  \n",
       "164073          64          0  \n",
       "\n",
       "[164074 rows x 5 columns]"
      ]
     },
     "execution_count": 24,
     "metadata": {},
     "output_type": "execute_result"
    }
   ],
   "source": [
    "#shuffle\n",
    "df_balanced= df_balanced.sample(frac=1,random_state=21).reset_index(drop=True)\n",
    "#frac= 1 is reshuffle 100 percent of data, this reshuffle is in order reshuffle, this is required bcoz concat gives evverything in prder which is why shuffling needed\n",
    "df_balanced\n"
   ]
  },
  {
   "cell_type": "code",
   "execution_count": 25,
   "id": "c95e3cad-1653-4c2c-804b-18d1aa6c58d8",
   "metadata": {},
   "outputs": [
    {
     "name": "stdout",
     "output_type": "stream",
     "text": [
      "Original Imbalance\n",
      "Negative : 82,037 (0.15601904856089796)\n",
      "Positive : 443,777 (0.843980951439102)\n",
      "After balance\n",
      "Total Samples : 164074\n",
      "Negative : 82,037 (0.0)\n",
      "Positive : 82,037 (0.0)\n"
     ]
    }
   ],
   "source": [
    "#seperations\n",
    "negative_reviews = df_binary[df_binary['sentiment'] == 0]\n",
    "positive_reviews = df_binary[df_binary['sentiment'] == 1]\n",
    "\n",
    "print(f\"Original Imbalance\")\n",
    "print(f\"Negative : {len(negative_reviews):,} ({len(negative_reviews)/len(df_binary)})\")\n",
    "print(f\"Positive : {len(positive_reviews):,} ({len(positive_reviews)/len(df_binary)})\")\n",
    "\n",
    "\n",
    "\n",
    "print(f\"After balance\")\n",
    "print(f\"Total Samples : {len(df_balanced)}\")\n",
    "print(f\"Negative : {sum(df_balanced['sentiment'] == 0):,} ({sum(df_balanced['sentiment']==0)/len(df_balanced)**100})\")\n",
    "print(f\"Positive : {sum(df_balanced['sentiment'] == 1):,} ({sum(df_balanced['sentiment']==1)/len(df_balanced)**100})\")"
   ]
  },
  {
   "cell_type": "code",
   "execution_count": 26,
   "id": "7622bd50-3160-4aee-ac98-bb6ac26d0992",
   "metadata": {},
   "outputs": [
    {
     "name": "stdout",
     "output_type": "stream",
     "text": [
      "sample_negative : 25061\n",
      "sample_positive : 24939\n"
     ]
    }
   ],
   "source": [
    "#take a sample from df_balanced now so that load will be less on our gpu\n",
    "sample_size= min(50000,len(df_balanced))\n",
    "df_sample = df_balanced.sample(n=sample_size,random_state=21)\n",
    "\n",
    "sample_negative= sum(df_sample['sentiment']==0)\n",
    "sample_positive= sum(df_sample['sentiment']==1)\n",
    "print(f\"sample_negative : {sample_negative}\")\n",
    "print(f\"sample_positive : {sample_positive}\")"
   ]
  },
  {
   "cell_type": "code",
   "execution_count": 27,
   "id": "cc6b9c5d-80b2-4f5c-ad6e-fa3969fcaba5",
   "metadata": {},
   "outputs": [],
   "source": [
    "#clean - text -> 1) convert lowercase\n",
    "                #  2) remove special character :) (U+1F60A).  #, !\n",
    "                #  3) keep only letter and spaces\n",
    "                #  4) extra whitespcae   i_love__ice-cream"
   ]
  },
  {
   "cell_type": "code",
   "execution_count": 28,
   "id": "df174831-7df0-4f63-a0e6-15b590057bcb",
   "metadata": {},
   "outputs": [
    {
     "name": "stdout",
     "output_type": "stream",
     "text": [
      "+++++++++++++++++text preprocessing++++++++++++++++\n"
     ]
    }
   ],
   "source": [
    "import re\n",
    "\n",
    "def clean_text(text):\n",
    "    text=text.lower()\n",
    "    #remove all the special characters \n",
    "    text = re.sub(r'[^a-zA-Z\\s]','', text)\n",
    "    text= ' '.join(text.split())\n",
    "    return text\n",
    "\n",
    "print(\"+++++++++++++++++text preprocessing++++++++++++++++\")\n",
    "df_balanced['clean_text']= df_balanced['Text'].apply(clean_text)"
   ]
  },
  {
   "cell_type": "code",
   "execution_count": 29,
   "id": "3af39808-149e-440a-9e6e-f9d545af5e69",
   "metadata": {},
   "outputs": [
    {
     "data": {
      "text/html": [
       "<div>\n",
       "<style scoped>\n",
       "    .dataframe tbody tr th:only-of-type {\n",
       "        vertical-align: middle;\n",
       "    }\n",
       "\n",
       "    .dataframe tbody tr th {\n",
       "        vertical-align: top;\n",
       "    }\n",
       "\n",
       "    .dataframe thead th {\n",
       "        text-align: right;\n",
       "    }\n",
       "</style>\n",
       "<table border=\"1\" class=\"dataframe\">\n",
       "  <thead>\n",
       "    <tr style=\"text-align: right;\">\n",
       "      <th></th>\n",
       "      <th>Text</th>\n",
       "      <th>Score</th>\n",
       "      <th>text_length</th>\n",
       "      <th>word_count</th>\n",
       "      <th>sentiment</th>\n",
       "      <th>clean_text</th>\n",
       "    </tr>\n",
       "  </thead>\n",
       "  <tbody>\n",
       "    <tr>\n",
       "      <th>0</th>\n",
       "      <td>Our family now uses this in place of butter or...</td>\n",
       "      <td>5</td>\n",
       "      <td>323</td>\n",
       "      <td>65</td>\n",
       "      <td>1</td>\n",
       "      <td>our family now uses this in place of butter or...</td>\n",
       "    </tr>\n",
       "    <tr>\n",
       "      <th>1</th>\n",
       "      <td>the k- cups were thrown in an oversized box wi...</td>\n",
       "      <td>1</td>\n",
       "      <td>208</td>\n",
       "      <td>41</td>\n",
       "      <td>0</td>\n",
       "      <td>the k cups were thrown in an oversized box wit...</td>\n",
       "    </tr>\n",
       "    <tr>\n",
       "      <th>2</th>\n",
       "      <td>I usually go to China town whereever I happen ...</td>\n",
       "      <td>5</td>\n",
       "      <td>270</td>\n",
       "      <td>54</td>\n",
       "      <td>1</td>\n",
       "      <td>i usually go to china town whereever i happen ...</td>\n",
       "    </tr>\n",
       "    <tr>\n",
       "      <th>3</th>\n",
       "      <td>Used to buy them from Sam's Club, but they wer...</td>\n",
       "      <td>5</td>\n",
       "      <td>151</td>\n",
       "      <td>28</td>\n",
       "      <td>1</td>\n",
       "      <td>used to buy them from sams club but they were ...</td>\n",
       "    </tr>\n",
       "    <tr>\n",
       "      <th>4</th>\n",
       "      <td>Great product, great price from amazon while u...</td>\n",
       "      <td>5</td>\n",
       "      <td>135</td>\n",
       "      <td>20</td>\n",
       "      <td>1</td>\n",
       "      <td>great product great price from amazon while us...</td>\n",
       "    </tr>\n",
       "    <tr>\n",
       "      <th>...</th>\n",
       "      <td>...</td>\n",
       "      <td>...</td>\n",
       "      <td>...</td>\n",
       "      <td>...</td>\n",
       "      <td>...</td>\n",
       "      <td>...</td>\n",
       "    </tr>\n",
       "    <tr>\n",
       "      <th>164069</th>\n",
       "      <td>I works fine but unless you are a commercial p...</td>\n",
       "      <td>2</td>\n",
       "      <td>244</td>\n",
       "      <td>43</td>\n",
       "      <td>0</td>\n",
       "      <td>i works fine but unless you are a commercial p...</td>\n",
       "    </tr>\n",
       "    <tr>\n",
       "      <th>164070</th>\n",
       "      <td>First, the other happy baby flavors have been ...</td>\n",
       "      <td>1</td>\n",
       "      <td>390</td>\n",
       "      <td>74</td>\n",
       "      <td>0</td>\n",
       "      <td>first the other happy baby flavors have been a...</td>\n",
       "    </tr>\n",
       "    <tr>\n",
       "      <th>164071</th>\n",
       "      <td>We like all of the Crystal Light mixes, but fi...</td>\n",
       "      <td>5</td>\n",
       "      <td>308</td>\n",
       "      <td>58</td>\n",
       "      <td>1</td>\n",
       "      <td>we like all of the crystal light mixes but fin...</td>\n",
       "    </tr>\n",
       "    <tr>\n",
       "      <th>164072</th>\n",
       "      <td>VERY Disappointing --- doesn't taste like coff...</td>\n",
       "      <td>1</td>\n",
       "      <td>148</td>\n",
       "      <td>28</td>\n",
       "      <td>0</td>\n",
       "      <td>very disappointing doesnt taste like coffee an...</td>\n",
       "    </tr>\n",
       "    <tr>\n",
       "      <th>164073</th>\n",
       "      <td>I ordered 3 belly flop bags about 2 months ago...</td>\n",
       "      <td>2</td>\n",
       "      <td>340</td>\n",
       "      <td>64</td>\n",
       "      <td>0</td>\n",
       "      <td>i ordered belly flop bags about months ago and...</td>\n",
       "    </tr>\n",
       "  </tbody>\n",
       "</table>\n",
       "<p>164074 rows × 6 columns</p>\n",
       "</div>"
      ],
      "text/plain": [
       "                                                     Text  Score  text_length  \\\n",
       "0       Our family now uses this in place of butter or...      5          323   \n",
       "1       the k- cups were thrown in an oversized box wi...      1          208   \n",
       "2       I usually go to China town whereever I happen ...      5          270   \n",
       "3       Used to buy them from Sam's Club, but they wer...      5          151   \n",
       "4       Great product, great price from amazon while u...      5          135   \n",
       "...                                                   ...    ...          ...   \n",
       "164069  I works fine but unless you are a commercial p...      2          244   \n",
       "164070  First, the other happy baby flavors have been ...      1          390   \n",
       "164071  We like all of the Crystal Light mixes, but fi...      5          308   \n",
       "164072  VERY Disappointing --- doesn't taste like coff...      1          148   \n",
       "164073  I ordered 3 belly flop bags about 2 months ago...      2          340   \n",
       "\n",
       "        word_count  sentiment  \\\n",
       "0               65          1   \n",
       "1               41          0   \n",
       "2               54          1   \n",
       "3               28          1   \n",
       "4               20          1   \n",
       "...            ...        ...   \n",
       "164069          43          0   \n",
       "164070          74          0   \n",
       "164071          58          1   \n",
       "164072          28          0   \n",
       "164073          64          0   \n",
       "\n",
       "                                               clean_text  \n",
       "0       our family now uses this in place of butter or...  \n",
       "1       the k cups were thrown in an oversized box wit...  \n",
       "2       i usually go to china town whereever i happen ...  \n",
       "3       used to buy them from sams club but they were ...  \n",
       "4       great product great price from amazon while us...  \n",
       "...                                                   ...  \n",
       "164069  i works fine but unless you are a commercial p...  \n",
       "164070  first the other happy baby flavors have been a...  \n",
       "164071  we like all of the crystal light mixes but fin...  \n",
       "164072  very disappointing doesnt taste like coffee an...  \n",
       "164073  i ordered belly flop bags about months ago and...  \n",
       "\n",
       "[164074 rows x 6 columns]"
      ]
     },
     "execution_count": 29,
     "metadata": {},
     "output_type": "execute_result"
    }
   ],
   "source": [
    "df_balanced"
   ]
  },
  {
   "cell_type": "markdown",
   "id": "f4c27203-2462-421e-9d57-dcde5e85c9c5",
   "metadata": {},
   "source": [
    "**TOKENIZATION**"
   ]
  },
  {
   "cell_type": "code",
   "execution_count": 31,
   "id": "6c7162e5-4ce6-4792-8502-979e919c70b3",
   "metadata": {},
   "outputs": [
    {
     "name": "stdout",
     "output_type": "stream",
     "text": [
      "Max vocab size : 10000 words\n",
      "Max seq Length : 100 words\n"
     ]
    }
   ],
   "source": [
    "#to build rnn or lstm , firstly we need to have max features, which is like a vocabulary which is created\n",
    "MAX_FEATURES=10000 \n",
    "MAX_LEN = 100 #max seq length (number of words per review)\n",
    "\n",
    "print(f\"Max vocab size : {MAX_FEATURES} words\")\n",
    "print(f\"Max seq Length : {MAX_LEN} words\")"
   ]
  },
  {
   "cell_type": "code",
   "execution_count": 32,
   "id": "4c6ba8b7-f444-4d48-9813-c447544957ca",
   "metadata": {},
   "outputs": [],
   "source": [
    "x= df_balanced['clean_text'].values\n",
    "y=df_balanced['sentiment'].values"
   ]
  },
  {
   "cell_type": "code",
   "execution_count": 33,
   "id": "f0e54268-61bb-400a-b8fd-f7f9d036d245",
   "metadata": {},
   "outputs": [
    {
     "data": {
      "text/plain": [
       "array(['our family now uses this in place of butter or other oils for all our cooking needs it tastes sooo good it has a very nice lite sweet taste to it also it is much healthier for you than butter or other oils we use all clad cookware and have no trouble with sticking as long as adequate coconut oil is used when cooking',\n",
       "       'the k cups were thrown in an oversized box with no packaging i only recevied out of several were dented in and i got green mnt decafe coffees also the rest were mostly tea what a rip off',\n",
       "       'i usually go to china town whereever i happen to be and stock up the product itself is fantastic but i usually dont pay more than for oz exactly the same tea if you dont have access to china town then by all means it pays to get it however you can',\n",
       "       ...,\n",
       "       'we like all of the crystal light mixes but find the raspberry tea to be the best tasting of all of them being diabetic i am always looking for sugar free products that taste good but the true test of a product is if my kids will drink it and they love itbr br highly recommendedbr br cfh',\n",
       "       'very disappointing doesnt taste like coffee and is extremely bitter i may try the house blend or a flavor but not before i taste a sample',\n",
       "       'i ordered belly flop bags about months ago and all i received were bags that contained the same flavors two of which i hated black licorice and coconut i was really disappointed you say that you promise youll give an excellent variety of mixes if we order more than one bag but that definitely was not the case for me'],\n",
       "      dtype=object)"
      ]
     },
     "execution_count": 33,
     "metadata": {},
     "output_type": "execute_result"
    }
   ],
   "source": [
    "x"
   ]
  },
  {
   "cell_type": "code",
   "execution_count": 34,
   "id": "95d3a3bc-d59e-49d7-8033-b28415f09c25",
   "metadata": {},
   "outputs": [
    {
     "data": {
      "text/plain": [
       "array([1, 0, 1, ..., 1, 0, 0])"
      ]
     },
     "execution_count": 34,
     "metadata": {},
     "output_type": "execute_result"
    }
   ],
   "source": [
    "y"
   ]
  },
  {
   "cell_type": "code",
   "execution_count": 35,
   "id": "93285c4d-5e14-4925-af73-dfc54e02b964",
   "metadata": {},
   "outputs": [
    {
     "name": "stdout",
     "output_type": "stream",
     "text": [
      "Actual vocab size: 113,343words\n",
      "Final Sequence shape : (164074, 100)\n",
      "Org Text : our family now uses this in place of butter or other oils for all our cooking needs it tastes sooo g\n",
      "Sequence : [118, 380, 93, 1000, 9, 11, 613, 8, 301, 36, 59, 1086, 12, 41, 118, 657, 709, 7, 129, 3126]\n",
      "Padded shape: (100,)\n"
     ]
    }
   ],
   "source": [
    "from tensorflow.keras.preprocessing.text import Tokenizer\n",
    "\n",
    "tokenizer= Tokenizer(num_words= MAX_FEATURES, oov_token='<OOV>') #when a model hasnt seen a particular word or data but it comes in the working, so just dont give just error then, rather provide with out of vocab token\n",
    "tokenizer.fit_on_texts(x)  # creates word frequency,how many times a particular word is appearing, the count of it is shown\n",
    "#by default any oov token is given index 0 in pytorch, and  1 in tensorflow\n",
    "\n",
    "\n",
    "#converting the text into sequnces\n",
    "x_sequences= tokenizer.texts_to_sequences(x) #converts each word to coresponding index value, mtlb jo freuqency hogi na uski vahi index aajayegi niklke, ab jo index aayegi they will come out as a  list\n",
    "\n",
    "#PADDING\n",
    "from tensorflow.keras.preprocessing.sequence import pad_sequences \n",
    "x_padded = pad_sequences(x_sequences, maxlen= MAX_LEN, padding='post',truncating='post')\n",
    "\n",
    "\n",
    "print(f\"Actual vocab size: {len(tokenizer.word_index):,}words\")\n",
    "print(f\"Final Sequence shape : {x_padded.shape}\")\n",
    "\n",
    "#look at the final data\n",
    "print(f\"Org Text : {x[0][:100]}\")\n",
    "print(f\"Sequence : {x_sequences[0][:20]}\")\n",
    "print(f\"Padded shape: {x_padded[0].shape}\")"
   ]
  },
  {
   "cell_type": "code",
   "execution_count": 36,
   "id": "ea159e86-1da8-41b0-b3a1-4f87bb7fee22",
   "metadata": {},
   "outputs": [
    {
     "data": {
      "text/plain": [
       "[118,\n",
       " 380,\n",
       " 93,\n",
       " 1000,\n",
       " 9,\n",
       " 11,\n",
       " 613,\n",
       " 8,\n",
       " 301,\n",
       " 36,\n",
       " 59,\n",
       " 1086,\n",
       " 12,\n",
       " 41,\n",
       " 118,\n",
       " 657,\n",
       " 709,\n",
       " 7,\n",
       " 129,\n",
       " 3126,\n",
       " 37,\n",
       " 7,\n",
       " 53,\n",
       " 5,\n",
       " 39,\n",
       " 195,\n",
       " 4215,\n",
       " 139,\n",
       " 32,\n",
       " 6,\n",
       " 7,\n",
       " 83,\n",
       " 7,\n",
       " 10,\n",
       " 73,\n",
       " 840,\n",
       " 12,\n",
       " 20,\n",
       " 62,\n",
       " 301,\n",
       " 36,\n",
       " 59,\n",
       " 1086,\n",
       " 51,\n",
       " 92,\n",
       " 41,\n",
       " 1,\n",
       " 1,\n",
       " 4,\n",
       " 18,\n",
       " 58,\n",
       " 1162,\n",
       " 19,\n",
       " 1862,\n",
       " 25,\n",
       " 244,\n",
       " 25,\n",
       " 3701,\n",
       " 303,\n",
       " 230,\n",
       " 10,\n",
       " 117,\n",
       " 46,\n",
       " 657]"
      ]
     },
     "execution_count": 36,
     "metadata": {},
     "output_type": "execute_result"
    }
   ],
   "source": [
    "x_sequences[0]"
   ]
  },
  {
   "cell_type": "code",
   "execution_count": 37,
   "id": "06df55db-fe11-447f-8afd-10da9251ba8b",
   "metadata": {},
   "outputs": [
    {
     "data": {
      "text/plain": [
       "array([ 118,  380,   93, 1000,    9,   11,  613,    8,  301,   36,   59,\n",
       "       1086,   12,   41,  118,  657,  709,    7,  129, 3126,   37,    7,\n",
       "         53,    5,   39,  195, 4215,  139,   32,    6,    7,   83,    7,\n",
       "         10,   73,  840,   12,   20,   62,  301,   36,   59, 1086,   51,\n",
       "         92,   41,    1,    1,    4,   18,   58, 1162,   19, 1862,   25,\n",
       "        244,   25, 3701,  303,  230,   10,  117,   46,  657,    0,    0,\n",
       "          0,    0,    0,    0,    0,    0,    0,    0,    0,    0,    0,\n",
       "          0,    0,    0,    0,    0,    0,    0,    0,    0,    0,    0,\n",
       "          0,    0,    0,    0,    0,    0,    0,    0,    0,    0,    0,\n",
       "          0])"
      ]
     },
     "execution_count": 37,
     "metadata": {},
     "output_type": "execute_result"
    }
   ],
   "source": [
    "x_padded[0]"
   ]
  },
  {
   "cell_type": "code",
   "execution_count": 38,
   "id": "1753679d-9902-48c1-b9c8-438ff244c38d",
   "metadata": {},
   "outputs": [
    {
     "name": "stdout",
     "output_type": "stream",
     "text": [
      "Training Set: 131,259 samples\n",
      "Testing Set:32,815 samples\n",
      "shape of features:100 (sequ length)\n"
     ]
    }
   ],
   "source": [
    "#split the data\n",
    "from sklearn.model_selection import train_test_split\n",
    "x_train,x_test,y_train,y_test= train_test_split(x_padded,y,\n",
    "                                                test_size=0.20,\n",
    "                                                random_state=42,\n",
    "                                                stratify=y)#maintain the class balance overall\n",
    "\n",
    "\n",
    "print(f\"Training Set: {x_train.shape[0]:,} samples\")\n",
    "print(f\"Testing Set:{x_test.shape[0]:,} samples\")\n",
    "print(f\"shape of features:{x_train.shape[1]} (sequ length)\")"
   ]
  },
  {
   "cell_type": "markdown",
   "id": "e442921d-ff78-4b44-b1d4-b7a7f8b54633",
   "metadata": {},
   "source": [
    "**RNN**"
   ]
  },
  {
   "cell_type": "code",
   "execution_count": 40,
   "id": "e0b13dc9-fa4e-4e38-9b09-09fcd4dfec34",
   "metadata": {},
   "outputs": [],
   "source": [
    "from tensorflow.keras.layers import Embedding, SimpleRNN,LSTM,Dropout,Dense\n",
    "from tensorflow.keras.optimizers import Adam\n",
    "from tensorflow.keras.callbacks import EarlyStopping,ModelCheckpoint\n",
    "from tensorflow.keras.models import Sequential"
   ]
  },
  {
   "cell_type": "code",
   "execution_count": 81,
   "id": "c2a53a20-d1e5-47af-baed-37a1540e22c6",
   "metadata": {},
   "outputs": [
    {
     "name": "stderr",
     "output_type": "stream",
     "text": [
      "C:\\Users\\Asus\\AppData\\Roaming\\Python\\Python312\\site-packages\\keras\\src\\layers\\core\\embedding.py:90: UserWarning: Argument `input_length` is deprecated. Just remove it.\n",
      "  warnings.warn(\n"
     ]
    },
    {
     "data": {
      "text/html": [
       "<pre style=\"white-space:pre;overflow-x:auto;line-height:normal;font-family:Menlo,'DejaVu Sans Mono',consolas,'Courier New',monospace\"><span style=\"font-weight: bold\">Model: \"sequential_2\"</span>\n",
       "</pre>\n"
      ],
      "text/plain": [
       "\u001b[1mModel: \"sequential_2\"\u001b[0m\n"
      ]
     },
     "metadata": {},
     "output_type": "display_data"
    },
    {
     "data": {
      "text/html": [
       "<pre style=\"white-space:pre;overflow-x:auto;line-height:normal;font-family:Menlo,'DejaVu Sans Mono',consolas,'Courier New',monospace\">┏━━━━━━━━━━━━━━━━━━━━━━━━━━━━━━━━━━━━━━┳━━━━━━━━━━━━━━━━━━━━━━━━━━━━━┳━━━━━━━━━━━━━━━━━┓\n",
       "┃<span style=\"font-weight: bold\"> Layer (type)                         </span>┃<span style=\"font-weight: bold\"> Output Shape                </span>┃<span style=\"font-weight: bold\">         Param # </span>┃\n",
       "┡━━━━━━━━━━━━━━━━━━━━━━━━━━━━━━━━━━━━━━╇━━━━━━━━━━━━━━━━━━━━━━━━━━━━━╇━━━━━━━━━━━━━━━━━┩\n",
       "│ embedding_2 (<span style=\"color: #0087ff; text-decoration-color: #0087ff\">Embedding</span>)              │ ?                           │     <span style=\"color: #00af00; text-decoration-color: #00af00\">0</span> (unbuilt) │\n",
       "├──────────────────────────────────────┼─────────────────────────────┼─────────────────┤\n",
       "│ simple_rnn_2 (<span style=\"color: #0087ff; text-decoration-color: #0087ff\">SimpleRNN</span>)             │ ?                           │     <span style=\"color: #00af00; text-decoration-color: #00af00\">0</span> (unbuilt) │\n",
       "├──────────────────────────────────────┼─────────────────────────────┼─────────────────┤\n",
       "│ dropout_2 (<span style=\"color: #0087ff; text-decoration-color: #0087ff\">Dropout</span>)                  │ ?                           │               <span style=\"color: #00af00; text-decoration-color: #00af00\">0</span> │\n",
       "├──────────────────────────────────────┼─────────────────────────────┼─────────────────┤\n",
       "│ dense_4 (<span style=\"color: #0087ff; text-decoration-color: #0087ff\">Dense</span>)                      │ ?                           │     <span style=\"color: #00af00; text-decoration-color: #00af00\">0</span> (unbuilt) │\n",
       "├──────────────────────────────────────┼─────────────────────────────┼─────────────────┤\n",
       "│ dense_5 (<span style=\"color: #0087ff; text-decoration-color: #0087ff\">Dense</span>)                      │ ?                           │     <span style=\"color: #00af00; text-decoration-color: #00af00\">0</span> (unbuilt) │\n",
       "└──────────────────────────────────────┴─────────────────────────────┴─────────────────┘\n",
       "</pre>\n"
      ],
      "text/plain": [
       "┏━━━━━━━━━━━━━━━━━━━━━━━━━━━━━━━━━━━━━━┳━━━━━━━━━━━━━━━━━━━━━━━━━━━━━┳━━━━━━━━━━━━━━━━━┓\n",
       "┃\u001b[1m \u001b[0m\u001b[1mLayer (type)                        \u001b[0m\u001b[1m \u001b[0m┃\u001b[1m \u001b[0m\u001b[1mOutput Shape               \u001b[0m\u001b[1m \u001b[0m┃\u001b[1m \u001b[0m\u001b[1m        Param #\u001b[0m\u001b[1m \u001b[0m┃\n",
       "┡━━━━━━━━━━━━━━━━━━━━━━━━━━━━━━━━━━━━━━╇━━━━━━━━━━━━━━━━━━━━━━━━━━━━━╇━━━━━━━━━━━━━━━━━┩\n",
       "│ embedding_2 (\u001b[38;5;33mEmbedding\u001b[0m)              │ ?                           │     \u001b[38;5;34m0\u001b[0m (unbuilt) │\n",
       "├──────────────────────────────────────┼─────────────────────────────┼─────────────────┤\n",
       "│ simple_rnn_2 (\u001b[38;5;33mSimpleRNN\u001b[0m)             │ ?                           │     \u001b[38;5;34m0\u001b[0m (unbuilt) │\n",
       "├──────────────────────────────────────┼─────────────────────────────┼─────────────────┤\n",
       "│ dropout_2 (\u001b[38;5;33mDropout\u001b[0m)                  │ ?                           │               \u001b[38;5;34m0\u001b[0m │\n",
       "├──────────────────────────────────────┼─────────────────────────────┼─────────────────┤\n",
       "│ dense_4 (\u001b[38;5;33mDense\u001b[0m)                      │ ?                           │     \u001b[38;5;34m0\u001b[0m (unbuilt) │\n",
       "├──────────────────────────────────────┼─────────────────────────────┼─────────────────┤\n",
       "│ dense_5 (\u001b[38;5;33mDense\u001b[0m)                      │ ?                           │     \u001b[38;5;34m0\u001b[0m (unbuilt) │\n",
       "└──────────────────────────────────────┴─────────────────────────────┴─────────────────┘\n"
      ]
     },
     "metadata": {},
     "output_type": "display_data"
    },
    {
     "data": {
      "text/html": [
       "<pre style=\"white-space:pre;overflow-x:auto;line-height:normal;font-family:Menlo,'DejaVu Sans Mono',consolas,'Courier New',monospace\"><span style=\"font-weight: bold\"> Total params: </span><span style=\"color: #00af00; text-decoration-color: #00af00\">0</span> (0.00 B)\n",
       "</pre>\n"
      ],
      "text/plain": [
       "\u001b[1m Total params: \u001b[0m\u001b[38;5;34m0\u001b[0m (0.00 B)\n"
      ]
     },
     "metadata": {},
     "output_type": "display_data"
    },
    {
     "data": {
      "text/html": [
       "<pre style=\"white-space:pre;overflow-x:auto;line-height:normal;font-family:Menlo,'DejaVu Sans Mono',consolas,'Courier New',monospace\"><span style=\"font-weight: bold\"> Trainable params: </span><span style=\"color: #00af00; text-decoration-color: #00af00\">0</span> (0.00 B)\n",
       "</pre>\n"
      ],
      "text/plain": [
       "\u001b[1m Trainable params: \u001b[0m\u001b[38;5;34m0\u001b[0m (0.00 B)\n"
      ]
     },
     "metadata": {},
     "output_type": "display_data"
    },
    {
     "data": {
      "text/html": [
       "<pre style=\"white-space:pre;overflow-x:auto;line-height:normal;font-family:Menlo,'DejaVu Sans Mono',consolas,'Courier New',monospace\"><span style=\"font-weight: bold\"> Non-trainable params: </span><span style=\"color: #00af00; text-decoration-color: #00af00\">0</span> (0.00 B)\n",
       "</pre>\n"
      ],
      "text/plain": [
       "\u001b[1m Non-trainable params: \u001b[0m\u001b[38;5;34m0\u001b[0m (0.00 B)\n"
      ]
     },
     "metadata": {},
     "output_type": "display_data"
    }
   ],
   "source": [
    "def create_rnn_model():\n",
    "    model=Sequential([\n",
    "        Embedding(input_dim = MAX_FEATURES,output_dim=128,input_length=MAX_LEN),\n",
    "        SimpleRNN(units=64,return_sequences=False), #hidden state size of 64, toh mtlb after every dense vector token reading, ye 64 value of the hidden state will be updated\n",
    "        Dropout(0.5),\n",
    "        Dense(32,activation='relu'), #toph yha pe jo 64 dim ka input aayega, vo input harr ek 32 neuron ke saath connect hoga, weights aur bias lgaayenge, aur phir harr ek neuron dega ek output, toh yaani 32 times 64input ki mappping will give 32 as the output\n",
    "        Dense(1,activation='sigmoid')\n",
    "    ])\n",
    "    return model\n",
    "    \n",
    "# Dense layer ka core kaam hai:\n",
    "# Matrix multiply karna input aur weight matrix ka\n",
    "# Bias add karna\n",
    "# Activation lagana\n",
    "\n",
    "rnn_model=create_rnn_model()\n",
    "\n",
    "rnn_model.compile(\n",
    "    optimizer='adam',\n",
    "    loss='binary_crossentropy',\n",
    "    metrics=['accuracy']\n",
    ")\n",
    "\n",
    "rnn_model.summary()"
   ]
  },
  {
   "cell_type": "code",
   "execution_count": 85,
   "id": "03bbae1c-dcfd-4590-b83a-7c8bd78480a1",
   "metadata": {},
   "outputs": [
    {
     "name": "stdout",
     "output_type": "stream",
     "text": [
      "Epoch 1/5\n",
      "\u001b[1m821/821\u001b[0m \u001b[32m━━━━━━━━━━━━━━━━━━━━\u001b[0m\u001b[37m\u001b[0m \u001b[1m86s\u001b[0m 97ms/step - accuracy: 0.5161 - loss: 0.6931 - val_accuracy: 0.5463 - val_loss: 0.6797\n",
      "Epoch 2/5\n",
      "\u001b[1m821/821\u001b[0m \u001b[32m━━━━━━━━━━━━━━━━━━━━\u001b[0m\u001b[37m\u001b[0m \u001b[1m77s\u001b[0m 94ms/step - accuracy: 0.5593 - loss: 0.6695 - val_accuracy: 0.5553 - val_loss: 0.6682\n",
      "Epoch 3/5\n",
      "\u001b[1m821/821\u001b[0m \u001b[32m━━━━━━━━━━━━━━━━━━━━\u001b[0m\u001b[37m\u001b[0m \u001b[1m69s\u001b[0m 78ms/step - accuracy: 0.5917 - loss: 0.6232 - val_accuracy: 0.5511 - val_loss: 0.6855\n",
      "Epoch 4/5\n",
      "\u001b[1m821/821\u001b[0m \u001b[32m━━━━━━━━━━━━━━━━━━━━\u001b[0m\u001b[37m\u001b[0m \u001b[1m58s\u001b[0m 70ms/step - accuracy: 0.6144 - loss: 0.5819 - val_accuracy: 0.5590 - val_loss: 0.7094\n",
      "Epoch 5/5\n",
      "\u001b[1m821/821\u001b[0m \u001b[32m━━━━━━━━━━━━━━━━━━━━\u001b[0m\u001b[37m\u001b[0m \u001b[1m50s\u001b[0m 61ms/step - accuracy: 0.6329 - loss: 0.5417 - val_accuracy: 0.5674 - val_loss: 0.7571\n"
     ]
    }
   ],
   "source": [
    "rnn_history= rnn_model.fit(x_train,y_train,\n",
    "                           batch_size=128,\n",
    "                           epochs=5,\n",
    "                           validation_split=0.20,\n",
    "                           verbose=1)"
   ]
  },
  {
   "cell_type": "code",
   "execution_count": 87,
   "id": "5eff1134-26ca-4bbf-8072-9dc7e34dcc5e",
   "metadata": {},
   "outputs": [
    {
     "name": "stdout",
     "output_type": "stream",
     "text": [
      "final_train_accuracy :0.6319959759712219\n"
     ]
    }
   ],
   "source": [
    "#to print the final accuracy\n",
    "final_train_accuracy= rnn_history.history['accuracy'][-1]\n",
    "print(f\"final_train_accuracy :{final_train_accuracy}\")"
   ]
  },
  {
   "cell_type": "code",
   "execution_count": 91,
   "id": "0829aea2-aa9b-4bd3-897d-257dd8a6cf74",
   "metadata": {},
   "outputs": [
    {
     "data": {
      "text/plain": [
       "<matplotlib.legend.Legend at 0x1c24ff543b0>"
      ]
     },
     "execution_count": 91,
     "metadata": {},
     "output_type": "execute_result"
    },
    {
     "data": {
      "image/png": "[encoded data removed]",
      "text/plain": [
       "<Figure size 800x600 with 1 Axes>"
      ]
     },
     "metadata": {},
     "output_type": "display_data"
    }
   ],
   "source": [
    "import matplotlib.pyplot as plt\n",
    "plt.figure(figsize=(8,6))\n",
    "plt.plot(rnn_history.history['loss'],label='Training Loss')\n",
    "plt.plot(rnn_history.history['val_loss'],label= 'Validation Loss')\n",
    "plt.title('Model loss over epoch')\n",
    "plt.xlabel('epoch')\n",
    "plt.ylabel('loss')\n",
    "plt.legend()"
   ]
  },
  {
   "cell_type": "code",
   "execution_count": 93,
   "id": "23f194f0-7bf3-490c-aebe-3470526d97b3",
   "metadata": {},
   "outputs": [
    {
     "name": "stderr",
     "output_type": "stream",
     "text": [
      "C:\\Users\\Asus\\AppData\\Roaming\\Python\\Python312\\site-packages\\keras\\src\\layers\\core\\embedding.py:90: UserWarning: Argument `input_length` is deprecated. Just remove it.\n",
      "  warnings.warn(\n"
     ]
    },
    {
     "data": {
      "text/html": [
       "<pre style=\"white-space:pre;overflow-x:auto;line-height:normal;font-family:Menlo,'DejaVu Sans Mono',consolas,'Courier New',monospace\"><span style=\"font-weight: bold\">Model: \"sequential_3\"</span>\n",
       "</pre>\n"
      ],
      "text/plain": [
       "\u001b[1mModel: \"sequential_3\"\u001b[0m\n"
      ]
     },
     "metadata": {},
     "output_type": "display_data"
    },
    {
     "data": {
      "text/html": [
       "<pre style=\"white-space:pre;overflow-x:auto;line-height:normal;font-family:Menlo,'DejaVu Sans Mono',consolas,'Courier New',monospace\">┏━━━━━━━━━━━━━━━━━━━━━━━━━━━━━━━━━━━━━━┳━━━━━━━━━━━━━━━━━━━━━━━━━━━━━┳━━━━━━━━━━━━━━━━━┓\n",
       "┃<span style=\"font-weight: bold\"> Layer (type)                         </span>┃<span style=\"font-weight: bold\"> Output Shape                </span>┃<span style=\"font-weight: bold\">         Param # </span>┃\n",
       "┡━━━━━━━━━━━━━━━━━━━━━━━━━━━━━━━━━━━━━━╇━━━━━━━━━━━━━━━━━━━━━━━━━━━━━╇━━━━━━━━━━━━━━━━━┩\n",
       "│ embedding_3 (<span style=\"color: #0087ff; text-decoration-color: #0087ff\">Embedding</span>)              │ ?                           │     <span style=\"color: #00af00; text-decoration-color: #00af00\">0</span> (unbuilt) │\n",
       "├──────────────────────────────────────┼─────────────────────────────┼─────────────────┤\n",
       "│ lstm (<span style=\"color: #0087ff; text-decoration-color: #0087ff\">LSTM</span>)                          │ ?                           │     <span style=\"color: #00af00; text-decoration-color: #00af00\">0</span> (unbuilt) │\n",
       "├──────────────────────────────────────┼─────────────────────────────┼─────────────────┤\n",
       "│ dropout_3 (<span style=\"color: #0087ff; text-decoration-color: #0087ff\">Dropout</span>)                  │ ?                           │               <span style=\"color: #00af00; text-decoration-color: #00af00\">0</span> │\n",
       "├──────────────────────────────────────┼─────────────────────────────┼─────────────────┤\n",
       "│ dense_6 (<span style=\"color: #0087ff; text-decoration-color: #0087ff\">Dense</span>)                      │ ?                           │     <span style=\"color: #00af00; text-decoration-color: #00af00\">0</span> (unbuilt) │\n",
       "├──────────────────────────────────────┼─────────────────────────────┼─────────────────┤\n",
       "│ dense_7 (<span style=\"color: #0087ff; text-decoration-color: #0087ff\">Dense</span>)                      │ ?                           │     <span style=\"color: #00af00; text-decoration-color: #00af00\">0</span> (unbuilt) │\n",
       "└──────────────────────────────────────┴─────────────────────────────┴─────────────────┘\n",
       "</pre>\n"
      ],
      "text/plain": [
       "┏━━━━━━━━━━━━━━━━━━━━━━━━━━━━━━━━━━━━━━┳━━━━━━━━━━━━━━━━━━━━━━━━━━━━━┳━━━━━━━━━━━━━━━━━┓\n",
       "┃\u001b[1m \u001b[0m\u001b[1mLayer (type)                        \u001b[0m\u001b[1m \u001b[0m┃\u001b[1m \u001b[0m\u001b[1mOutput Shape               \u001b[0m\u001b[1m \u001b[0m┃\u001b[1m \u001b[0m\u001b[1m        Param #\u001b[0m\u001b[1m \u001b[0m┃\n",
       "┡━━━━━━━━━━━━━━━━━━━━━━━━━━━━━━━━━━━━━━╇━━━━━━━━━━━━━━━━━━━━━━━━━━━━━╇━━━━━━━━━━━━━━━━━┩\n",
       "│ embedding_3 (\u001b[38;5;33mEmbedding\u001b[0m)              │ ?                           │     \u001b[38;5;34m0\u001b[0m (unbuilt) │\n",
       "├──────────────────────────────────────┼─────────────────────────────┼─────────────────┤\n",
       "│ lstm (\u001b[38;5;33mLSTM\u001b[0m)                          │ ?                           │     \u001b[38;5;34m0\u001b[0m (unbuilt) │\n",
       "├──────────────────────────────────────┼─────────────────────────────┼─────────────────┤\n",
       "│ dropout_3 (\u001b[38;5;33mDropout\u001b[0m)                  │ ?                           │               \u001b[38;5;34m0\u001b[0m │\n",
       "├──────────────────────────────────────┼─────────────────────────────┼─────────────────┤\n",
       "│ dense_6 (\u001b[38;5;33mDense\u001b[0m)                      │ ?                           │     \u001b[38;5;34m0\u001b[0m (unbuilt) │\n",
       "├──────────────────────────────────────┼─────────────────────────────┼─────────────────┤\n",
       "│ dense_7 (\u001b[38;5;33mDense\u001b[0m)                      │ ?                           │     \u001b[38;5;34m0\u001b[0m (unbuilt) │\n",
       "└──────────────────────────────────────┴─────────────────────────────┴─────────────────┘\n"
      ]
     },
     "metadata": {},
     "output_type": "display_data"
    },
    {
     "data": {
      "text/html": [
       "<pre style=\"white-space:pre;overflow-x:auto;line-height:normal;font-family:Menlo,'DejaVu Sans Mono',consolas,'Courier New',monospace\"><span style=\"font-weight: bold\"> Total params: </span><span style=\"color: #00af00; text-decoration-color: #00af00\">0</span> (0.00 B)\n",
       "</pre>\n"
      ],
      "text/plain": [
       "\u001b[1m Total params: \u001b[0m\u001b[38;5;34m0\u001b[0m (0.00 B)\n"
      ]
     },
     "metadata": {},
     "output_type": "display_data"
    },
    {
     "data": {
      "text/html": [
       "<pre style=\"white-space:pre;overflow-x:auto;line-height:normal;font-family:Menlo,'DejaVu Sans Mono',consolas,'Courier New',monospace\"><span style=\"font-weight: bold\"> Trainable params: </span><span style=\"color: #00af00; text-decoration-color: #00af00\">0</span> (0.00 B)\n",
       "</pre>\n"
      ],
      "text/plain": [
       "\u001b[1m Trainable params: \u001b[0m\u001b[38;5;34m0\u001b[0m (0.00 B)\n"
      ]
     },
     "metadata": {},
     "output_type": "display_data"
    },
    {
     "data": {
      "text/html": [
       "<pre style=\"white-space:pre;overflow-x:auto;line-height:normal;font-family:Menlo,'DejaVu Sans Mono',consolas,'Courier New',monospace\"><span style=\"font-weight: bold\"> Non-trainable params: </span><span style=\"color: #00af00; text-decoration-color: #00af00\">0</span> (0.00 B)\n",
       "</pre>\n"
      ],
      "text/plain": [
       "\u001b[1m Non-trainable params: \u001b[0m\u001b[38;5;34m0\u001b[0m (0.00 B)\n"
      ]
     },
     "metadata": {},
     "output_type": "display_data"
    }
   ],
   "source": [
    "def create_lstm_model():\n",
    "    model=Sequential([\n",
    "        Embedding(input_dim = MAX_FEATURES,output_dim=128,input_length=MAX_LEN),\n",
    "        LSTM(units=64,return_sequences=False), #hidden state size of 64, toh mtlb after every dense vector token reading, ye 64 value of the hidden state will be updated\n",
    "        Dropout(0.5),\n",
    "        Dense(32,activation='relu'), #toph yha pe jo 64 dim ka input aayega, vo input harr ek 32 neuron ke saath connect hoga, weights aur bias lgaayenge, aur phir harr ek neuron dega ek output, toh yaani 32 times 64input ki mappping will give 32 as the output\n",
    "        Dense(1,activation='sigmoid')\n",
    "    ])\n",
    "    return model\n",
    "    \n",
    "# Dense layer ka core kaam hai:\n",
    "# Matrix multiply karna input aur weight matrix ka\n",
    "# Bias add karna\n",
    "# Activation lagana\n",
    "\n",
    "lstm_model=create_lstm_model()\n",
    "\n",
    "lstm_model.compile(\n",
    "    optimizer='adam',\n",
    "    loss='binary_crossentropy',\n",
    "    metrics=['accuracy']\n",
    ")\n",
    "\n",
    "lstm_model.summary()"
   ]
  },
  {
   "cell_type": "code",
   "execution_count": 95,
   "id": "fd7e87a7-61f9-476b-87b1-b2896fbd4207",
   "metadata": {},
   "outputs": [
    {
     "name": "stdout",
     "output_type": "stream",
     "text": [
      "Epoch 1/5\n",
      "\u001b[1m821/821\u001b[0m \u001b[32m━━━━━━━━━━━━━━━━━━━━\u001b[0m\u001b[37m\u001b[0m \u001b[1m135s\u001b[0m 156ms/step - accuracy: 0.6062 - loss: 0.6610 - val_accuracy: 0.6686 - val_loss: 0.6291\n",
      "Epoch 2/5\n",
      "\u001b[1m821/821\u001b[0m \u001b[32m━━━━━━━━━━━━━━━━━━━━\u001b[0m\u001b[37m\u001b[0m \u001b[1m120s\u001b[0m 146ms/step - accuracy: 0.6014 - loss: 0.6571 - val_accuracy: 0.8467 - val_loss: 0.3508\n",
      "Epoch 3/5\n",
      "\u001b[1m821/821\u001b[0m \u001b[32m━━━━━━━━━━━━━━━━━━━━\u001b[0m\u001b[37m\u001b[0m \u001b[1m120s\u001b[0m 146ms/step - accuracy: 0.8839 - loss: 0.2991 - val_accuracy: 0.9111 - val_loss: 0.2266\n",
      "Epoch 4/5\n",
      "\u001b[1m821/821\u001b[0m \u001b[32m━━━━━━━━━━━━━━━━━━━━\u001b[0m\u001b[37m\u001b[0m \u001b[1m102s\u001b[0m 124ms/step - accuracy: 0.9345 - loss: 0.1821 - val_accuracy: 0.9229 - val_loss: 0.2051\n",
      "Epoch 5/5\n",
      "\u001b[1m821/821\u001b[0m \u001b[32m━━━━━━━━━━━━━━━━━━━━\u001b[0m\u001b[37m\u001b[0m \u001b[1m103s\u001b[0m 125ms/step - accuracy: 0.9568 - loss: 0.1304 - val_accuracy: 0.9205 - val_loss: 0.2248\n"
     ]
    }
   ],
   "source": [
    "lstm_history=lstm_model.fit(\n",
    "    x_train,y_train,\n",
    "    batch_size=128,\n",
    "    epochs=5,\n",
    "    validation_split=0.20,\n",
    "    verbose=1\n",
    ")"
   ]
  },
  {
   "cell_type": "code",
   "execution_count": 99,
   "id": "45ad8808-bea6-4c42-9f6e-4c756c71cd04",
   "metadata": {},
   "outputs": [
    {
     "data": {
      "text/plain": [
       "0.6319959759712219"
      ]
     },
     "execution_count": 99,
     "metadata": {},
     "output_type": "execute_result"
    }
   ],
   "source": [
    "final_tran_accuracy= lstm_history.history['accuracy'][-1]\n",
    "final_train_accuracy"
   ]
  },
  {
   "cell_type": "code",
   "execution_count": 101,
   "id": "b2904677-fd79-4791-9d40-34a0a9ac11a0",
   "metadata": {},
   "outputs": [
    {
     "data": {
      "text/plain": [
       "<matplotlib.legend.Legend at 0x1c24ff54470>"
      ]
     },
     "execution_count": 101,
     "metadata": {},
     "output_type": "execute_result"
    },
    {
     "data": {
      "image/png": "[encoded data removed]",
      "text/plain": [
       "<Figure size 400x400 with 1 Axes>"
      ]
     },
     "metadata": {},
     "output_type": "display_data"
    }
   ],
   "source": [
    "import matplotlib.pyplot as plt\n",
    "plt.figure(figsize=(4,4))\n",
    "plt.plot(lstm_history.history['loss'],label='Training Loss')\n",
    "plt.plot(lstm_history.history['val_loss'],label= 'Validation Loss')\n",
    "plt.title('Model loss over epoch')\n",
    "plt.xlabel('epoch')\n",
    "plt.ylabel('loss')\n",
    "plt.legend()"
   ]
  },
  {
   "cell_type": "code",
   "execution_count": 103,
   "id": "21de58be-d451-4e57-83fa-d1388e809909",
   "metadata": {},
   "outputs": [
    {
     "data": {
      "text/plain": [
       "<matplotlib.legend.Legend at 0x1c281c37f80>"
      ]
     },
     "execution_count": 103,
     "metadata": {},
     "output_type": "execute_result"
    },
    {
     "data": {
      "image/png": "[encoded data removed]",
      "text/plain": [
       "<Figure size 400x400 with 1 Axes>"
      ]
     },
     "metadata": {},
     "output_type": "display_data"
    }
   ],
   "source": [
    "import matplotlib.pyplot as plt\n",
    "plt.figure(figsize=(4,4))\n",
    "plt.plot(lstm_history.history['accuracy'],label='Training acc')\n",
    "plt.plot(lstm_history.history['val_accuracy'],label= 'Validation acc')\n",
    "plt.title('Model loss over epoch')\n",
    "plt.xlabel('epoch')\n",
    "plt.ylabel('loss')\n",
    "plt.legend()"
   ]
  },
  {
   "cell_type": "markdown",
   "id": "d9e1f73f-c878-472e-a7d6-50f807cd61c1",
   "metadata": {},
   "source": [
    "**HYPERPARAMETER TUNING**"
   ]
  },
  {
   "cell_type": "code",
   "execution_count": 106,
   "id": "e629ac6d-6456-4baf-97a4-587c3775e79d",
   "metadata": {},
   "outputs": [
    {
     "name": "stdout",
     "output_type": "stream",
     "text": [
      "model_type:['rnn', 'lstm']\n",
      "embedding_dim:[64, 128]\n",
      "units:[32, 64, 128]\n",
      "dropout_rate:[0.3, 0.5]\n",
      "learning_rate:[0.001, 0.01]\n"
     ]
    }
   ],
   "source": [
    "param_grid={\n",
    "    'model_type':['rnn','lstm'],\n",
    "    'embedding_dim':[64,128],\n",
    "    'units':[32,64,128],\n",
    "    'dropout_rate':[0.30,0.50],\n",
    "    'learning_rate':[0.001,0.01]\n",
    "}\n",
    "\n",
    "#search space-> we have random search, gridsearch\n",
    "\n",
    "for param, values in param_grid.items():\n",
    "    print(f\"{param}:{values}\")\n",
    "\n"
   ]
  },
  {
   "cell_type": "code",
   "execution_count": 118,
   "id": "487ff968-d3a7-4b7c-a941-91b73892ad5a",
   "metadata": {},
   "outputs": [
    {
     "name": "stdout",
     "output_type": "stream",
     "text": [
      "['rnn', 'lstm']\n",
      "2\n",
      "[64, 128]\n",
      "2\n",
      "[32, 64, 128]\n",
      "3\n",
      "[0.3, 0.5]\n",
      "2\n",
      "[0.001, 0.01]\n",
      "2\n"
     ]
    }
   ],
   "source": [
    "total_combinations=1\n",
    "for values in param_grid.values():\n",
    "    print(values)\n",
    "    print(len(values))\n"
   ]
  },
  {
   "cell_type": "code",
   "execution_count": 122,
   "id": "0ffe422d-2491-4671-ae83-0d51b3b45844",
   "metadata": {},
   "outputs": [
    {
     "data": {
      "text/plain": [
       "48"
      ]
     },
     "execution_count": 122,
     "metadata": {},
     "output_type": "execute_result"
    }
   ],
   "source": [
    "for values in param_grid.values():\n",
    "    total_combinations *= len(values)\n",
    "\n",
    "total_combinations"
   ]
  },
  {
   "cell_type": "code",
   "execution_count": 124,
   "id": "70938872-e714-4088-8cdf-64d963177289",
   "metadata": {},
   "outputs": [],
   "source": [
    "#helper function\n",
    "def create_mode_with_param(model_type='rnn',embedding_dim=128,units=64,dropout_rate=0.5,learning_rate=0.001):\n",
    "  model=Sequential([\n",
    "      Embedding(MAX_FEATURES,embedding_dim,input_length=MAX_LEN)\n",
    "  ])\n",
    "\n",
    "  if model_type == 'lstm':\n",
    "    model.add(LSTM(units, return_sequences=False))\n",
    "  else:\n",
    "    model.add(SimpleRNN(units, return_sequences=False))\n",
    "\n",
    "  model.add(Dropout(dropout_rate))\n",
    "  model.add(Dense(32,activation='relu'))\n",
    "  model.add(Dense(1, activation='sigmoid'))\n",
    "\n",
    "  model.compile(\n",
    "      optimizer = Adam(learning_rate=learning_rate),\n",
    "      loss=\"binary_crossentropy\",\n",
    "      metrics=['accuracy']\n",
    "  )\n",
    "  return model"
   ]
  },
  {
   "cell_type": "code",
   "execution_count": 130,
   "id": "07d05009-bd37-4c63-8461-ae1aef9d6729",
   "metadata": {},
   "outputs": [],
   "source": [
    "import time\n",
    "\n",
    "def random_search(n_trails=8):\n",
    "  results = []\n",
    "  np.random.seed(42)\n",
    "  for i in range(n_trails):\n",
    "    params = {\n",
    "        'model_type': str(np.random.choice(param_grid['model_type'])),\n",
    "        'embedding_dim': int(np.random.choice(param_grid['embedding_dim'])),\n",
    "        'units': int(np.random.choice(param_grid['units'])),\n",
    "        'dropout_rate': float(np.random.choice(param_grid['dropout_rate'])),\n",
    "        'learning_rate': float(np.random.choice(param_grid['learning_rate'])),\n",
    "    }\n",
    "\n",
    "    print(f\"Trail {i+1}/{n_trails}\")\n",
    "    print(f\"Parameters : {params}\")\n",
    "    try:\n",
    "      model = create_mode_with_param(**params)\n",
    "      history = model.fit(\n",
    "            x_train, y_train,\n",
    "            batch_size=128,\n",
    "            epochs=10,  # idea\n",
    "            validation_split=0.2,\n",
    "            verbose=1\n",
    "        )\n",
    "      val_accuracy = max(history.history['val_accuracy'])\n",
    "      results.append({\n",
    "            'trail':i+1,\n",
    "            'params':params,\n",
    "            \"val_accuracy\":val_accuracy,\n",
    "            \"model\":model\n",
    "        })\n",
    "      print(f\"Validation Accuracy. : {val_accuracy}\")\n",
    "    except Exception as e:\n",
    "      print(f\"Error in the trial run {i+1}: {e}\")\n",
    "      continue\n",
    "\n",
    "  return results"
   ]
  },
  {
   "cell_type": "code",
   "execution_count": 132,
   "id": "e329e26b-0893-4e4e-93de-70f7c379e282",
   "metadata": {},
   "outputs": [
    {
     "name": "stdout",
     "output_type": "stream",
     "text": [
      "Trail 1/8\n",
      "Parameters : {'model_type': 'rnn', 'embedding_dim': 128, 'units': 32, 'dropout_rate': 0.3, 'learning_rate': 0.001}\n",
      "Epoch 1/10\n"
     ]
    },
    {
     "name": "stderr",
     "output_type": "stream",
     "text": [
      "C:\\Users\\Asus\\AppData\\Roaming\\Python\\Python312\\site-packages\\keras\\src\\layers\\core\\embedding.py:90: UserWarning: Argument `input_length` is deprecated. Just remove it.\n",
      "  warnings.warn(\n"
     ]
    },
    {
     "name": "stdout",
     "output_type": "stream",
     "text": [
      "\u001b[1m821/821\u001b[0m \u001b[32m━━━━━━━━━━━━━━━━━━━━\u001b[0m\u001b[37m\u001b[0m \u001b[1m71s\u001b[0m 76ms/step - accuracy: 0.5537 - loss: 0.6821 - val_accuracy: 0.6109 - val_loss: 0.6572\n",
      "Epoch 2/10\n",
      "\u001b[1m821/821\u001b[0m \u001b[32m━━━━━━━━━━━━━━━━━━━━\u001b[0m\u001b[37m\u001b[0m \u001b[1m81s\u001b[0m 75ms/step - accuracy: 0.6242 - loss: 0.6479 - val_accuracy: 0.6560 - val_loss: 0.6288\n",
      "Epoch 3/10\n",
      "\u001b[1m821/821\u001b[0m \u001b[32m━━━━━━━━━━━━━━━━━━━━\u001b[0m\u001b[37m\u001b[0m \u001b[1m51s\u001b[0m 61ms/step - accuracy: 0.6657 - loss: 0.5978 - val_accuracy: 0.5451 - val_loss: 0.6671\n",
      "Epoch 4/10\n",
      "\u001b[1m821/821\u001b[0m \u001b[32m━━━━━━━━━━━━━━━━━━━━\u001b[0m\u001b[37m\u001b[0m \u001b[1m124s\u001b[0m 113ms/step - accuracy: 0.6305 - loss: 0.5684 - val_accuracy: 0.6036 - val_loss: 0.6685\n",
      "Epoch 5/10\n",
      "\u001b[1m821/821\u001b[0m \u001b[32m━━━━━━━━━━━━━━━━━━━━\u001b[0m\u001b[37m\u001b[0m \u001b[1m121s\u001b[0m 86ms/step - accuracy: 0.6743 - loss: 0.5207 - val_accuracy: 0.6004 - val_loss: 0.7207\n",
      "Epoch 6/10\n",
      "\u001b[1m821/821\u001b[0m \u001b[32m━━━━━━━━━━━━━━━━━━━━\u001b[0m\u001b[37m\u001b[0m \u001b[1m76s\u001b[0m 92ms/step - accuracy: 0.7087 - loss: 0.4874 - val_accuracy: 0.6157 - val_loss: 0.7405\n",
      "Epoch 7/10\n",
      "\u001b[1m821/821\u001b[0m \u001b[32m━━━━━━━━━━━━━━━━━━━━\u001b[0m\u001b[37m\u001b[0m \u001b[1m68s\u001b[0m 74ms/step - accuracy: 0.7439 - loss: 0.4532 - val_accuracy: 0.6415 - val_loss: 0.7862\n",
      "Epoch 8/10\n",
      "\u001b[1m821/821\u001b[0m \u001b[32m━━━━━━━━━━━━━━━━━━━━\u001b[0m\u001b[37m\u001b[0m \u001b[1m86s\u001b[0m 79ms/step - accuracy: 0.7865 - loss: 0.4144 - val_accuracy: 0.6681 - val_loss: 0.7551\n",
      "Epoch 9/10\n",
      "\u001b[1m821/821\u001b[0m \u001b[32m━━━━━━━━━━━━━━━━━━━━\u001b[0m\u001b[37m\u001b[0m \u001b[1m55s\u001b[0m 67ms/step - accuracy: 0.8323 - loss: 0.3654 - val_accuracy: 0.6768 - val_loss: 0.7457\n",
      "Epoch 10/10\n",
      "\u001b[1m821/821\u001b[0m \u001b[32m━━━━━━━━━━━━━━━━━━━━\u001b[0m\u001b[37m\u001b[0m \u001b[1m190s\u001b[0m 231ms/step - accuracy: 0.8633 - loss: 0.3286 - val_accuracy: 0.7513 - val_loss: 0.6351\n",
      "Validation Accuracy. : 0.7513332366943359\n",
      "Trail 2/8\n",
      "Parameters : {'model_type': 'lstm', 'embedding_dim': 64, 'units': 32, 'dropout_rate': 0.3, 'learning_rate': 0.01}\n",
      "Epoch 1/10\n",
      "\u001b[1m821/821\u001b[0m \u001b[32m━━━━━━━━━━━━━━━━━━━━\u001b[0m\u001b[37m\u001b[0m \u001b[1m171s\u001b[0m 194ms/step - accuracy: 0.6436 - loss: 0.5768 - val_accuracy: 0.9004 - val_loss: 0.2543\n",
      "Epoch 2/10\n",
      "\u001b[1m821/821\u001b[0m \u001b[32m━━━━━━━━━━━━━━━━━━━━\u001b[0m\u001b[37m\u001b[0m \u001b[1m64s\u001b[0m 78ms/step - accuracy: 0.9095 - loss: 0.2437 - val_accuracy: 0.9121 - val_loss: 0.2308\n",
      "Epoch 3/10\n",
      "\u001b[1m821/821\u001b[0m \u001b[32m━━━━━━━━━━━━━━━━━━━━\u001b[0m\u001b[37m\u001b[0m \u001b[1m60s\u001b[0m 73ms/step - accuracy: 0.9314 - loss: 0.1869 - val_accuracy: 0.9118 - val_loss: 0.2317\n",
      "Epoch 4/10\n",
      "\u001b[1m821/821\u001b[0m \u001b[32m━━━━━━━━━━━━━━━━━━━━\u001b[0m\u001b[37m\u001b[0m \u001b[1m60s\u001b[0m 73ms/step - accuracy: 0.9444 - loss: 0.1542 - val_accuracy: 0.9183 - val_loss: 0.2183\n",
      "Epoch 5/10\n",
      "\u001b[1m821/821\u001b[0m \u001b[32m━━━━━━━━━━━━━━━━━━━━\u001b[0m\u001b[37m\u001b[0m \u001b[1m60s\u001b[0m 73ms/step - accuracy: 0.9531 - loss: 0.1356 - val_accuracy: 0.9173 - val_loss: 0.2190\n",
      "Epoch 6/10\n",
      "\u001b[1m821/821\u001b[0m \u001b[32m━━━━━━━━━━━━━━━━━━━━\u001b[0m\u001b[37m\u001b[0m \u001b[1m82s\u001b[0m 73ms/step - accuracy: 0.9599 - loss: 0.1143 - val_accuracy: 0.9134 - val_loss: 0.2359\n",
      "Epoch 7/10\n",
      "\u001b[1m821/821\u001b[0m \u001b[32m━━━━━━━━━━━━━━━━━━━━\u001b[0m\u001b[37m\u001b[0m \u001b[1m60s\u001b[0m 73ms/step - accuracy: 0.9637 - loss: 0.1082 - val_accuracy: 0.9160 - val_loss: 0.2549\n",
      "Epoch 8/10\n",
      "\u001b[1m821/821\u001b[0m \u001b[32m━━━━━━━━━━━━━━━━━━━━\u001b[0m\u001b[37m\u001b[0m \u001b[1m82s\u001b[0m 73ms/step - accuracy: 0.9657 - loss: 0.1025 - val_accuracy: 0.9116 - val_loss: 0.2469\n",
      "Epoch 9/10\n",
      "\u001b[1m821/821\u001b[0m \u001b[32m━━━━━━━━━━━━━━━━━━━━\u001b[0m\u001b[37m\u001b[0m \u001b[1m81s\u001b[0m 72ms/step - accuracy: 0.9663 - loss: 0.1001 - val_accuracy: 0.9154 - val_loss: 0.2396\n",
      "Epoch 10/10\n",
      "\u001b[1m821/821\u001b[0m \u001b[32m━━━━━━━━━━━━━━━━━━━━\u001b[0m\u001b[37m\u001b[0m \u001b[1m59s\u001b[0m 71ms/step - accuracy: 0.9671 - loss: 0.0964 - val_accuracy: 0.9161 - val_loss: 0.2508\n",
      "Validation Accuracy. : 0.9182919263839722\n",
      "Trail 3/8\n",
      "Parameters : {'model_type': 'rnn', 'embedding_dim': 64, 'units': 128, 'dropout_rate': 0.3, 'learning_rate': 0.01}\n",
      "Epoch 1/10\n",
      "\u001b[1m821/821\u001b[0m \u001b[32m━━━━━━━━━━━━━━━━━━━━\u001b[0m\u001b[37m\u001b[0m \u001b[1m76s\u001b[0m 86ms/step - accuracy: 0.5096 - loss: 0.7060 - val_accuracy: 0.5210 - val_loss: 0.6925\n",
      "Epoch 2/10\n",
      "\u001b[1m821/821\u001b[0m \u001b[32m━━━━━━━━━━━━━━━━━━━━\u001b[0m\u001b[37m\u001b[0m \u001b[1m72s\u001b[0m 88ms/step - accuracy: 0.5208 - loss: 0.6909 - val_accuracy: 0.5360 - val_loss: 0.6857\n",
      "Epoch 3/10\n",
      "\u001b[1m821/821\u001b[0m \u001b[32m━━━━━━━━━━━━━━━━━━━━\u001b[0m\u001b[37m\u001b[0m \u001b[1m70s\u001b[0m 85ms/step - accuracy: 0.5351 - loss: 0.6821 - val_accuracy: 0.5144 - val_loss: 0.6902\n",
      "Epoch 4/10\n",
      "\u001b[1m821/821\u001b[0m \u001b[32m━━━━━━━━━━━━━━━━━━━━\u001b[0m\u001b[37m\u001b[0m \u001b[1m70s\u001b[0m 85ms/step - accuracy: 0.5408 - loss: 0.6785 - val_accuracy: 0.5362 - val_loss: 0.6842\n",
      "Epoch 5/10\n",
      "\u001b[1m821/821\u001b[0m \u001b[32m━━━━━━━━━━━━━━━━━━━━\u001b[0m\u001b[37m\u001b[0m \u001b[1m70s\u001b[0m 86ms/step - accuracy: 0.5463 - loss: 0.6749 - val_accuracy: 0.5459 - val_loss: 0.6836\n",
      "Epoch 6/10\n",
      "\u001b[1m821/821\u001b[0m \u001b[32m━━━━━━━━━━━━━━━━━━━━\u001b[0m\u001b[37m\u001b[0m \u001b[1m70s\u001b[0m 85ms/step - accuracy: 0.5575 - loss: 0.6693 - val_accuracy: 0.5446 - val_loss: 0.6825\n",
      "Epoch 7/10\n",
      "\u001b[1m821/821\u001b[0m \u001b[32m━━━━━━━━━━━━━━━━━━━━\u001b[0m\u001b[37m\u001b[0m \u001b[1m82s\u001b[0m 85ms/step - accuracy: 0.5544 - loss: 0.6689 - val_accuracy: 0.5396 - val_loss: 0.6881\n",
      "Epoch 8/10\n",
      "\u001b[1m821/821\u001b[0m \u001b[32m━━━━━━━━━━━━━━━━━━━━\u001b[0m\u001b[37m\u001b[0m \u001b[1m70s\u001b[0m 85ms/step - accuracy: 0.5537 - loss: 0.6714 - val_accuracy: 0.5451 - val_loss: 0.6947\n",
      "Epoch 9/10\n",
      "\u001b[1m821/821\u001b[0m \u001b[32m━━━━━━━━━━━━━━━━━━━━\u001b[0m\u001b[37m\u001b[0m \u001b[1m73s\u001b[0m 88ms/step - accuracy: 0.5534 - loss: 0.6728 - val_accuracy: 0.5352 - val_loss: 0.6887\n",
      "Epoch 10/10\n",
      "\u001b[1m821/821\u001b[0m \u001b[32m━━━━━━━━━━━━━━━━━━━━\u001b[0m\u001b[37m\u001b[0m \u001b[1m83s\u001b[0m 89ms/step - accuracy: 0.5454 - loss: 0.6805 - val_accuracy: 0.5358 - val_loss: 0.6877\n",
      "Validation Accuracy. : 0.5459012389183044\n",
      "Trail 4/8\n",
      "Parameters : {'model_type': 'rnn', 'embedding_dim': 128, 'units': 128, 'dropout_rate': 0.5, 'learning_rate': 0.001}\n",
      "Epoch 1/10\n",
      "\u001b[1m821/821\u001b[0m \u001b[32m━━━━━━━━━━━━━━━━━━━━\u001b[0m\u001b[37m\u001b[0m \u001b[1m82s\u001b[0m 93ms/step - accuracy: 0.5116 - loss: 0.7009 - val_accuracy: 0.5493 - val_loss: 0.6845\n",
      "Epoch 2/10\n",
      "\u001b[1m821/821\u001b[0m \u001b[32m━━━━━━━━━━━━━━━━━━━━\u001b[0m\u001b[37m\u001b[0m \u001b[1m76s\u001b[0m 92ms/step - accuracy: 0.5754 - loss: 0.6742 - val_accuracy: 0.6818 - val_loss: 0.6029\n",
      "Epoch 3/10\n",
      "\u001b[1m821/821\u001b[0m \u001b[32m━━━━━━━━━━━━━━━━━━━━\u001b[0m\u001b[37m\u001b[0m \u001b[1m76s\u001b[0m 92ms/step - accuracy: 0.7271 - loss: 0.5482 - val_accuracy: 0.8461 - val_loss: 0.3553\n",
      "Epoch 4/10\n",
      "\u001b[1m821/821\u001b[0m \u001b[32m━━━━━━━━━━━━━━━━━━━━\u001b[0m\u001b[37m\u001b[0m \u001b[1m76s\u001b[0m 92ms/step - accuracy: 0.8576 - loss: 0.3384 - val_accuracy: 0.8863 - val_loss: 0.2881\n",
      "Epoch 5/10\n",
      "\u001b[1m821/821\u001b[0m \u001b[32m━━━━━━━━━━━━━━━━━━━━\u001b[0m\u001b[37m\u001b[0m \u001b[1m75s\u001b[0m 92ms/step - accuracy: 0.8942 - loss: 0.2666 - val_accuracy: 0.8675 - val_loss: 0.3346\n",
      "Epoch 6/10\n",
      "\u001b[1m821/821\u001b[0m \u001b[32m━━━━━━━━━━━━━━━━━━━━\u001b[0m\u001b[37m\u001b[0m \u001b[1m76s\u001b[0m 92ms/step - accuracy: 0.9111 - loss: 0.2290 - val_accuracy: 0.8921 - val_loss: 0.2791\n",
      "Epoch 7/10\n",
      "\u001b[1m821/821\u001b[0m \u001b[32m━━━━━━━━━━━━━━━━━━━━\u001b[0m\u001b[37m\u001b[0m \u001b[1m77s\u001b[0m 94ms/step - accuracy: 0.9089 - loss: 0.2294 - val_accuracy: 0.8773 - val_loss: 0.3181\n",
      "Epoch 8/10\n",
      "\u001b[1m821/821\u001b[0m \u001b[32m━━━━━━━━━━━━━━━━━━━━\u001b[0m\u001b[37m\u001b[0m \u001b[1m77s\u001b[0m 94ms/step - accuracy: 0.9300 - loss: 0.1875 - val_accuracy: 0.8996 - val_loss: 0.2767\n",
      "Epoch 9/10\n",
      "\u001b[1m821/821\u001b[0m \u001b[32m━━━━━━━━━━━━━━━━━━━━\u001b[0m\u001b[37m\u001b[0m \u001b[1m80s\u001b[0m 91ms/step - accuracy: 0.9416 - loss: 0.1598 - val_accuracy: 0.8561 - val_loss: 0.4006\n",
      "Epoch 10/10\n",
      "\u001b[1m821/821\u001b[0m \u001b[32m━━━━━━━━━━━━━━━━━━━━\u001b[0m\u001b[37m\u001b[0m \u001b[1m76s\u001b[0m 92ms/step - accuracy: 0.9511 - loss: 0.1366 - val_accuracy: 0.8901 - val_loss: 0.2890\n",
      "Validation Accuracy. : 0.8995504975318909\n",
      "Trail 5/8\n",
      "Parameters : {'model_type': 'lstm', 'embedding_dim': 128, 'units': 64, 'dropout_rate': 0.5, 'learning_rate': 0.01}\n",
      "Epoch 1/10\n",
      "\u001b[1m821/821\u001b[0m \u001b[32m━━━━━━━━━━━━━━━━━━━━\u001b[0m\u001b[37m\u001b[0m \u001b[1m124s\u001b[0m 142ms/step - accuracy: 0.6733 - loss: 0.5564 - val_accuracy: 0.8976 - val_loss: 0.2525\n",
      "Epoch 2/10\n",
      "\u001b[1m821/821\u001b[0m \u001b[32m━━━━━━━━━━━━━━━━━━━━\u001b[0m\u001b[37m\u001b[0m \u001b[1m142s\u001b[0m 143ms/step - accuracy: 0.9047 - loss: 0.2415 - val_accuracy: 0.9068 - val_loss: 0.2436\n",
      "Epoch 3/10\n",
      "\u001b[1m821/821\u001b[0m \u001b[32m━━━━━━━━━━━━━━━━━━━━\u001b[0m\u001b[37m\u001b[0m \u001b[1m142s\u001b[0m 143ms/step - accuracy: 0.9090 - loss: 0.2379 - val_accuracy: 0.8967 - val_loss: 0.2506\n",
      "Epoch 4/10\n",
      "\u001b[1m821/821\u001b[0m \u001b[32m━━━━━━━━━━━━━━━━━━━━\u001b[0m\u001b[37m\u001b[0m \u001b[1m125s\u001b[0m 152ms/step - accuracy: 0.9169 - loss: 0.2180 - val_accuracy: 0.8992 - val_loss: 0.2552\n",
      "Epoch 5/10\n",
      "\u001b[1m821/821\u001b[0m \u001b[32m━━━━━━━━━━━━━━━━━━━━\u001b[0m\u001b[37m\u001b[0m \u001b[1m116s\u001b[0m 141ms/step - accuracy: 0.9249 - loss: 0.2003 - val_accuracy: 0.9045 - val_loss: 0.2459\n",
      "Epoch 6/10\n",
      "\u001b[1m821/821\u001b[0m \u001b[32m━━━━━━━━━━━━━━━━━━━━\u001b[0m\u001b[37m\u001b[0m \u001b[1m118s\u001b[0m 143ms/step - accuracy: 0.9284 - loss: 0.1930 - val_accuracy: 0.8992 - val_loss: 0.2533\n",
      "Epoch 7/10\n",
      "\u001b[1m821/821\u001b[0m \u001b[32m━━━━━━━━━━━━━━━━━━━━\u001b[0m\u001b[37m\u001b[0m \u001b[1m126s\u001b[0m 153ms/step - accuracy: 0.9295 - loss: 0.1890 - val_accuracy: 0.9010 - val_loss: 0.2577\n",
      "Epoch 8/10\n",
      "\u001b[1m821/821\u001b[0m \u001b[32m━━━━━━━━━━━━━━━━━━━━\u001b[0m\u001b[37m\u001b[0m \u001b[1m126s\u001b[0m 153ms/step - accuracy: 0.9255 - loss: 0.1931 - val_accuracy: 0.8980 - val_loss: 0.2630\n",
      "Epoch 9/10\n",
      "\u001b[1m821/821\u001b[0m \u001b[32m━━━━━━━━━━━━━━━━━━━━\u001b[0m\u001b[37m\u001b[0m \u001b[1m113s\u001b[0m 137ms/step - accuracy: 0.9267 - loss: 0.1941 - val_accuracy: 0.8988 - val_loss: 0.2566\n",
      "Epoch 10/10\n",
      "\u001b[1m821/821\u001b[0m \u001b[32m━━━━━━━━━━━━━━━━━━━━\u001b[0m\u001b[37m\u001b[0m \u001b[1m155s\u001b[0m 152ms/step - accuracy: 0.9300 - loss: 0.1870 - val_accuracy: 0.8997 - val_loss: 0.2496\n",
      "Validation Accuracy. : 0.9068261384963989\n",
      "Trail 6/8\n",
      "Parameters : {'model_type': 'lstm', 'embedding_dim': 128, 'units': 32, 'dropout_rate': 0.3, 'learning_rate': 0.01}\n",
      "Epoch 1/10\n",
      "\u001b[1m821/821\u001b[0m \u001b[32m━━━━━━━━━━━━━━━━━━━━\u001b[0m\u001b[37m\u001b[0m \u001b[1m73s\u001b[0m 82ms/step - accuracy: 0.6906 - loss: 0.5284 - val_accuracy: 0.9009 - val_loss: 0.2459\n",
      "Epoch 2/10\n",
      "\u001b[1m821/821\u001b[0m \u001b[32m━━━━━━━━━━━━━━━━━━━━\u001b[0m\u001b[37m\u001b[0m \u001b[1m69s\u001b[0m 84ms/step - accuracy: 0.9112 - loss: 0.2285 - val_accuracy: 0.9072 - val_loss: 0.2308\n",
      "Epoch 3/10\n",
      "\u001b[1m821/821\u001b[0m \u001b[32m━━━━━━━━━━━━━━━━━━━━\u001b[0m\u001b[37m\u001b[0m \u001b[1m79s\u001b[0m 81ms/step - accuracy: 0.9297 - loss: 0.1883 - val_accuracy: 0.9124 - val_loss: 0.2327\n",
      "Epoch 4/10\n",
      "\u001b[1m821/821\u001b[0m \u001b[32m━━━━━━━━━━━━━━━━━━━━\u001b[0m\u001b[37m\u001b[0m \u001b[1m66s\u001b[0m 81ms/step - accuracy: 0.9369 - loss: 0.1693 - val_accuracy: 0.9103 - val_loss: 0.2295\n",
      "Epoch 5/10\n",
      "\u001b[1m821/821\u001b[0m \u001b[32m━━━━━━━━━━━━━━━━━━━━\u001b[0m\u001b[37m\u001b[0m \u001b[1m81s\u001b[0m 80ms/step - accuracy: 0.9410 - loss: 0.1594 - val_accuracy: 0.9076 - val_loss: 0.2410\n",
      "Epoch 6/10\n",
      "\u001b[1m821/821\u001b[0m \u001b[32m━━━━━━━━━━━━━━━━━━━━\u001b[0m\u001b[37m\u001b[0m \u001b[1m66s\u001b[0m 81ms/step - accuracy: 0.9429 - loss: 0.1530 - val_accuracy: 0.9108 - val_loss: 0.2503\n",
      "Epoch 7/10\n",
      "\u001b[1m821/821\u001b[0m \u001b[32m━━━━━━━━━━━━━━━━━━━━\u001b[0m\u001b[37m\u001b[0m \u001b[1m70s\u001b[0m 85ms/step - accuracy: 0.9433 - loss: 0.1561 - val_accuracy: 0.9045 - val_loss: 0.2423\n",
      "Epoch 8/10\n",
      "\u001b[1m821/821\u001b[0m \u001b[32m━━━━━━━━━━━━━━━━━━━━\u001b[0m\u001b[37m\u001b[0m \u001b[1m79s\u001b[0m 81ms/step - accuracy: 0.9416 - loss: 0.1581 - val_accuracy: 0.9044 - val_loss: 0.2404\n",
      "Epoch 9/10\n",
      "\u001b[1m821/821\u001b[0m \u001b[32m━━━━━━━━━━━━━━━━━━━━\u001b[0m\u001b[37m\u001b[0m \u001b[1m66s\u001b[0m 80ms/step - accuracy: 0.9446 - loss: 0.1522 - val_accuracy: 0.9055 - val_loss: 0.2614\n",
      "Epoch 10/10\n",
      "\u001b[1m821/821\u001b[0m \u001b[32m━━━━━━━━━━━━━━━━━━━━\u001b[0m\u001b[37m\u001b[0m \u001b[1m66s\u001b[0m 81ms/step - accuracy: 0.9451 - loss: 0.1500 - val_accuracy: 0.9026 - val_loss: 0.2547\n",
      "Validation Accuracy. : 0.9123876094818115\n",
      "Trail 7/8\n",
      "Parameters : {'model_type': 'lstm', 'embedding_dim': 128, 'units': 32, 'dropout_rate': 0.5, 'learning_rate': 0.001}\n",
      "Epoch 1/10\n",
      "\u001b[1m821/821\u001b[0m \u001b[32m━━━━━━━━━━━━━━━━━━━━\u001b[0m\u001b[37m\u001b[0m \u001b[1m72s\u001b[0m 81ms/step - accuracy: 0.5576 - loss: 0.6761 - val_accuracy: 0.7292 - val_loss: 0.5818\n",
      "Epoch 2/10\n",
      "\u001b[1m821/821\u001b[0m \u001b[32m━━━━━━━━━━━━━━━━━━━━\u001b[0m\u001b[37m\u001b[0m \u001b[1m66s\u001b[0m 80ms/step - accuracy: 0.6728 - loss: 0.6081 - val_accuracy: 0.6030 - val_loss: 0.6509\n",
      "Epoch 3/10\n",
      "\u001b[1m821/821\u001b[0m \u001b[32m━━━━━━━━━━━━━━━━━━━━\u001b[0m\u001b[37m\u001b[0m \u001b[1m66s\u001b[0m 80ms/step - accuracy: 0.6210 - loss: 0.6458 - val_accuracy: 0.6855 - val_loss: 0.5873\n",
      "Epoch 4/10\n",
      "\u001b[1m821/821\u001b[0m \u001b[32m━━━━━━━━━━━━━━━━━━━━\u001b[0m\u001b[37m\u001b[0m \u001b[1m82s\u001b[0m 81ms/step - accuracy: 0.6624 - loss: 0.6101 - val_accuracy: 0.7555 - val_loss: 0.5666\n",
      "Epoch 5/10\n",
      "\u001b[1m821/821\u001b[0m \u001b[32m━━━━━━━━━━━━━━━━━━━━\u001b[0m\u001b[37m\u001b[0m \u001b[1m67s\u001b[0m 81ms/step - accuracy: 0.7762 - loss: 0.5257 - val_accuracy: 0.8251 - val_loss: 0.4530\n",
      "Epoch 6/10\n",
      "\u001b[1m821/821\u001b[0m \u001b[32m━━━━━━━━━━━━━━━━━━━━\u001b[0m\u001b[37m\u001b[0m \u001b[1m66s\u001b[0m 81ms/step - accuracy: 0.8471 - loss: 0.3934 - val_accuracy: 0.8804 - val_loss: 0.2935\n",
      "Epoch 7/10\n",
      "\u001b[1m821/821\u001b[0m \u001b[32m━━━━━━━━━━━━━━━━━━━━\u001b[0m\u001b[37m\u001b[0m \u001b[1m66s\u001b[0m 80ms/step - accuracy: 0.9043 - loss: 0.2578 - val_accuracy: 0.9008 - val_loss: 0.2507\n",
      "Epoch 8/10\n",
      "\u001b[1m821/821\u001b[0m \u001b[32m━━━━━━━━━━━━━━━━━━━━\u001b[0m\u001b[37m\u001b[0m \u001b[1m66s\u001b[0m 80ms/step - accuracy: 0.9261 - loss: 0.2002 - val_accuracy: 0.9080 - val_loss: 0.2347\n",
      "Epoch 9/10\n",
      "\u001b[1m821/821\u001b[0m \u001b[32m━━━━━━━━━━━━━━━━━━━━\u001b[0m\u001b[37m\u001b[0m \u001b[1m70s\u001b[0m 85ms/step - accuracy: 0.9424 - loss: 0.1607 - val_accuracy: 0.9113 - val_loss: 0.2411\n",
      "Epoch 10/10\n",
      "\u001b[1m821/821\u001b[0m \u001b[32m━━━━━━━━━━━━━━━━━━━━\u001b[0m\u001b[37m\u001b[0m \u001b[1m66s\u001b[0m 81ms/step - accuracy: 0.9540 - loss: 0.1320 - val_accuracy: 0.9113 - val_loss: 0.2430\n",
      "Validation Accuracy. : 0.9113210439682007\n",
      "Trail 8/8\n",
      "Parameters : {'model_type': 'rnn', 'embedding_dim': 64, 'units': 128, 'dropout_rate': 0.3, 'learning_rate': 0.01}\n",
      "Epoch 1/10\n",
      "\u001b[1m821/821\u001b[0m \u001b[32m━━━━━━━━━━━━━━━━━━━━\u001b[0m\u001b[37m\u001b[0m \u001b[1m73s\u001b[0m 83ms/step - accuracy: 0.5232 - loss: 0.7325 - val_accuracy: 0.5441 - val_loss: 0.6879\n",
      "Epoch 2/10\n",
      "\u001b[1m821/821\u001b[0m \u001b[32m━━━━━━━━━━━━━━━━━━━━\u001b[0m\u001b[37m\u001b[0m \u001b[1m67s\u001b[0m 82ms/step - accuracy: 0.5404 - loss: 0.6890 - val_accuracy: 0.5466 - val_loss: 0.6863\n",
      "Epoch 3/10\n",
      "\u001b[1m821/821\u001b[0m \u001b[32m━━━━━━━━━━━━━━━━━━━━\u001b[0m\u001b[37m\u001b[0m \u001b[1m69s\u001b[0m 84ms/step - accuracy: 0.5419 - loss: 0.6889 - val_accuracy: 0.5525 - val_loss: 0.6852\n",
      "Epoch 4/10\n",
      "\u001b[1m821/821\u001b[0m \u001b[32m━━━━━━━━━━━━━━━━━━━━\u001b[0m\u001b[37m\u001b[0m \u001b[1m68s\u001b[0m 83ms/step - accuracy: 0.5372 - loss: 0.6888 - val_accuracy: 0.4969 - val_loss: 0.6998\n",
      "Epoch 5/10\n",
      "\u001b[1m821/821\u001b[0m \u001b[32m━━━━━━━━━━━━━━━━━━━━\u001b[0m\u001b[37m\u001b[0m \u001b[1m69s\u001b[0m 84ms/step - accuracy: 0.5056 - loss: 0.6956 - val_accuracy: 0.4984 - val_loss: 0.6967\n",
      "Epoch 6/10\n",
      "\u001b[1m821/821\u001b[0m \u001b[32m━━━━━━━━━━━━━━━━━━━━\u001b[0m\u001b[37m\u001b[0m \u001b[1m81s\u001b[0m 83ms/step - accuracy: 0.5242 - loss: 0.6907 - val_accuracy: 0.5193 - val_loss: 0.6941\n",
      "Epoch 7/10\n",
      "\u001b[1m821/821\u001b[0m \u001b[32m━━━━━━━━━━━━━━━━━━━━\u001b[0m\u001b[37m\u001b[0m \u001b[1m81s\u001b[0m 82ms/step - accuracy: 0.5321 - loss: 0.6869 - val_accuracy: 0.5302 - val_loss: 0.6916\n",
      "Epoch 8/10\n",
      "\u001b[1m821/821\u001b[0m \u001b[32m━━━━━━━━━━━━━━━━━━━━\u001b[0m\u001b[37m\u001b[0m \u001b[1m69s\u001b[0m 84ms/step - accuracy: 0.5330 - loss: 0.6835 - val_accuracy: 0.5321 - val_loss: 0.6884\n",
      "Epoch 9/10\n",
      "\u001b[1m821/821\u001b[0m \u001b[32m━━━━━━━━━━━━━━━━━━━━\u001b[0m\u001b[37m\u001b[0m \u001b[1m70s\u001b[0m 85ms/step - accuracy: 0.5390 - loss: 0.6799 - val_accuracy: 0.5326 - val_loss: 0.6875\n",
      "Epoch 10/10\n",
      "\u001b[1m821/821\u001b[0m \u001b[32m━━━━━━━━━━━━━━━━━━━━\u001b[0m\u001b[37m\u001b[0m \u001b[1m71s\u001b[0m 87ms/step - accuracy: 0.5475 - loss: 0.6766 - val_accuracy: 0.5234 - val_loss: 0.6918\n",
      "Validation Accuracy. : 0.5524531602859497\n"
     ]
    }
   ],
   "source": [
    "search_results = random_search(8)"
   ]
  },
  {
   "cell_type": "code",
   "execution_count": 136,
   "id": "0a84a6b4-a2e8-4412-9fb4-45555bfbb8d8",
   "metadata": {},
   "outputs": [
    {
     "name": "stdout",
     "output_type": "stream",
     "text": [
      "Random search results\n",
      "Trail 1: RNN - Accuracy : 0.7513332366943359\n",
      "\n",
      "Trail 2: LSTM - Accuracy : 0.9182919263839722\n",
      "\n",
      "Trail 3: RNN - Accuracy : 0.5459012389183044\n",
      "\n",
      "Trail 4: RNN - Accuracy : 0.8995504975318909\n",
      "\n",
      "Trail 5: LSTM - Accuracy : 0.9068261384963989\n",
      "\n",
      "Trail 6: LSTM - Accuracy : 0.9123876094818115\n",
      "\n",
      "Trail 7: LSTM - Accuracy : 0.9113210439682007\n",
      "\n",
      "Trail 8: RNN - Accuracy : 0.5524531602859497\n",
      "\n",
      "Trial : 2\n",
      "Parameters : {'model_type': 'lstm', 'embedding_dim': 64, 'units': 32, 'dropout_rate': 0.3, 'learning_rate': 0.01}\n",
      "Validation Acc : 0.9182919263839722\n"
     ]
    }
   ],
   "source": [
    "#find the bestr para by myself\n",
    "\n",
    "if search_results:\n",
    "  best_result = max(search_results, key=lambda x:x['val_accuracy'])\n",
    "\n",
    "  print(f\"Random search results\")\n",
    "  for result in search_results:\n",
    "    trial = result['trail']\n",
    "    acc = result['val_accuracy']\n",
    "    model_type = result['params']['model_type']\n",
    "    print(f\"Trail {trial}: {model_type.upper()} - Accuracy : {acc}\\n\")\n",
    "\n",
    "  print(f\"Trial : {best_result['trail']}\")\n",
    "  print(f\"Parameters : {best_result['params']}\") #finer rnn that i ran\n",
    "  print(f\"Validation Acc : {best_result['val_accuracy']}\")"
   ]
  },
  {
   "cell_type": "code",
   "execution_count": 152,
   "id": "f329cc41-4dd4-4c53-9b64-67c7c47eeeb6",
   "metadata": {},
   "outputs": [
    {
     "name": "stdout",
     "output_type": "stream",
     "text": [
      "Epoch 1/10\n"
     ]
    },
    {
     "name": "stderr",
     "output_type": "stream",
     "text": [
      "C:\\Users\\Asus\\AppData\\Roaming\\Python\\Python312\\site-packages\\keras\\src\\layers\\core\\embedding.py:90: UserWarning: Argument `input_length` is deprecated. Just remove it.\n",
      "  warnings.warn(\n"
     ]
    },
    {
     "name": "stdout",
     "output_type": "stream",
     "text": [
      "\u001b[1m821/821\u001b[0m \u001b[32m━━━━━━━━━━━━━━━━━━━━\u001b[0m\u001b[37m\u001b[0m \u001b[1m0s\u001b[0m 62ms/step - accuracy: 0.6722 - loss: 0.5531\n",
      "Epoch 1: val_accuracy improved from -inf to 0.90279, saving model to C:/rnn handson/best_amazon_sentiment.keras\n",
      "\u001b[1m821/821\u001b[0m \u001b[32m━━━━━━━━━━━━━━━━━━━━\u001b[0m\u001b[37m\u001b[0m \u001b[1m66s\u001b[0m 69ms/step - accuracy: 0.6724 - loss: 0.5529 - val_accuracy: 0.9028 - val_loss: 0.2410\n",
      "Epoch 2/10\n",
      "\u001b[1m820/821\u001b[0m \u001b[32m━━━━━━━━━━━━━━━━━━━\u001b[0m\u001b[37m━\u001b[0m \u001b[1m0s\u001b[0m 60ms/step - accuracy: 0.9158 - loss: 0.2150\n",
      "Epoch 2: val_accuracy improved from 0.90279 to 0.90991, saving model to C:/rnn handson/best_amazon_sentiment.keras\n",
      "\u001b[1m821/821\u001b[0m \u001b[32m━━━━━━━━━━━━━━━━━━━━\u001b[0m\u001b[37m\u001b[0m \u001b[1m54s\u001b[0m 65ms/step - accuracy: 0.9158 - loss: 0.2150 - val_accuracy: 0.9099 - val_loss: 0.2247\n",
      "Epoch 3/10\n",
      "\u001b[1m821/821\u001b[0m \u001b[32m━━━━━━━━━━━━━━━━━━━━\u001b[0m\u001b[37m\u001b[0m \u001b[1m0s\u001b[0m 58ms/step - accuracy: 0.9368 - loss: 0.1665\n",
      "Epoch 3: val_accuracy improved from 0.90991 to 0.91658, saving model to C:/rnn handson/best_amazon_sentiment.keras\n",
      "\u001b[1m821/821\u001b[0m \u001b[32m━━━━━━━━━━━━━━━━━━━━\u001b[0m\u001b[37m\u001b[0m \u001b[1m52s\u001b[0m 64ms/step - accuracy: 0.9368 - loss: 0.1665 - val_accuracy: 0.9166 - val_loss: 0.2389\n",
      "Epoch 4/10\n",
      "\u001b[1m820/821\u001b[0m \u001b[32m━━━━━━━━━━━━━━━━━━━\u001b[0m\u001b[37m━\u001b[0m \u001b[1m0s\u001b[0m 59ms/step - accuracy: 0.9488 - loss: 0.1410\n",
      "Epoch 4: val_accuracy improved from 0.91658 to 0.91913, saving model to C:/rnn handson/best_amazon_sentiment.keras\n",
      "\u001b[1m821/821\u001b[0m \u001b[32m━━━━━━━━━━━━━━━━━━━━\u001b[0m\u001b[37m\u001b[0m \u001b[1m53s\u001b[0m 65ms/step - accuracy: 0.9488 - loss: 0.1411 - val_accuracy: 0.9191 - val_loss: 0.2154\n",
      "Epoch 5/10\n",
      "\u001b[1m820/821\u001b[0m \u001b[32m━━━━━━━━━━━━━━━━━━━\u001b[0m\u001b[37m━\u001b[0m \u001b[1m0s\u001b[0m 60ms/step - accuracy: 0.9569 - loss: 0.1210\n",
      "Epoch 5: val_accuracy did not improve from 0.91913\n",
      "\u001b[1m821/821\u001b[0m \u001b[32m━━━━━━━━━━━━━━━━━━━━\u001b[0m\u001b[37m\u001b[0m \u001b[1m54s\u001b[0m 65ms/step - accuracy: 0.9569 - loss: 0.1210 - val_accuracy: 0.9158 - val_loss: 0.2351\n",
      "Epoch 6/10\n",
      "\u001b[1m820/821\u001b[0m \u001b[32m━━━━━━━━━━━━━━━━━━━\u001b[0m\u001b[37m━\u001b[0m \u001b[1m0s\u001b[0m 69ms/step - accuracy: 0.9610 - loss: 0.1127\n",
      "Epoch 6: val_accuracy did not improve from 0.91913\n",
      "\u001b[1m821/821\u001b[0m \u001b[32m━━━━━━━━━━━━━━━━━━━━\u001b[0m\u001b[37m\u001b[0m \u001b[1m89s\u001b[0m 74ms/step - accuracy: 0.9610 - loss: 0.1128 - val_accuracy: 0.9138 - val_loss: 0.2439\n",
      "Epoch 7/10\n",
      "\u001b[1m820/821\u001b[0m \u001b[32m━━━━━━━━━━━━━━━━━━━\u001b[0m\u001b[37m━\u001b[0m \u001b[1m0s\u001b[0m 62ms/step - accuracy: 0.9634 - loss: 0.1052\n",
      "Epoch 7: val_accuracy did not improve from 0.91913\n",
      "\u001b[1m821/821\u001b[0m \u001b[32m━━━━━━━━━━━━━━━━━━━━\u001b[0m\u001b[37m\u001b[0m \u001b[1m55s\u001b[0m 68ms/step - accuracy: 0.9634 - loss: 0.1052 - val_accuracy: 0.9112 - val_loss: 0.2386\n"
     ]
    }
   ],
   "source": [
    "from tensorflow.keras.callbacks import ModelCheckpoint, EarlyStopping\n",
    "import pickle\n",
    "#there are 3 ways to save the file\n",
    "#pickle-> .pkl\n",
    "# hdfs -> .h5 -> hdoop distributed file system\n",
    "# keras-> .keras\n",
    "#train my final best model\n",
    "if search_results:\n",
    "    best_params=best_result['params']\n",
    "\n",
    "\n",
    "    # STEP-1creating the model\n",
    "    best_model= create_mode_with_param(**best_params)\n",
    "\n",
    "    #STEP-2 setup callbacks\n",
    "    callbacks=[\n",
    "        ModelCheckpoint(\n",
    "            'C:/rnn handson/best_amazon_sentiment.keras',\n",
    "            monitor='val_accuracy',\n",
    "            save_best_only=True,\n",
    "            mode='max',\n",
    "            verbose=1),\n",
    "\n",
    "        EarlyStopping(monitor='val_loss',\n",
    "                     patience=3,\n",
    "                     restore_best_weights=True)\n",
    "    ]\n",
    "\n",
    "    final_history = best_model.fit(\n",
    "        x_train,y_train,\n",
    "        batch_size=128,\n",
    "        epochs=10,\n",
    "        validation_split=0.20,\n",
    "        callbacks=callbacks\n",
    "    )\n",
    "\n",
    "    #save the tokenizer\n",
    "    with open(r'C:\\rnn handson\\best_amazon_sentiment.pkl', \"wb\") as f:\n",
    "        pickle.dump(tokenizer, f)\n",
    "\n",
    "\n",
    "else:\n",
    "    print(\"Error\")"
   ]
  },
  {
   "cell_type": "code",
   "execution_count": 154,
   "id": "88e1e960-2265-4ba3-854a-805fee86c281",
   "metadata": {},
   "outputs": [],
   "source": [
    "from tensorflow.keras.models import load_model\n",
    "\n",
    "#load the saved model and run as per the model\n",
    "loaded_model= load_model('C:/rnn handson/best_amazon_sentiment.keras')\n",
    "with open(r'C:\\rnn handson\\best_amazon_sentiment.pkl', \"rb\") as f:\n",
    "    loaded_tokenizer= pickle.load(f)"
   ]
  },
  {
   "cell_type": "code",
   "execution_count": 158,
   "id": "b782c4cf-6235-4aa8-9335-7517c9ccd694",
   "metadata": {},
   "outputs": [
    {
     "name": "stdout",
     "output_type": "stream",
     "text": [
      "\u001b[1m1026/1026\u001b[0m \u001b[32m━━━━━━━━━━━━━━━━━━━━\u001b[0m\u001b[37m\u001b[0m \u001b[1m13s\u001b[0m 13ms/step\n"
     ]
    },
    {
     "data": {
      "text/plain": [
       "array([0, 1, 1, ..., 0, 0, 1])"
      ]
     },
     "execution_count": 158,
     "metadata": {},
     "output_type": "execute_result"
    }
   ],
   "source": [
    "y_pred_proba= loaded_model.predict(x_test)\n",
    "y_pred= (y_pred_proba>0.5).astype(int).flatten()\n",
    "y_pred"
   ]
  },
  {
   "cell_type": "code",
   "execution_count": 160,
   "id": "f73914f2-1f43-4311-a32e-32eb0a9fc5e8",
   "metadata": {},
   "outputs": [
    {
     "data": {
      "text/plain": [
       "32815"
      ]
     },
     "execution_count": 160,
     "metadata": {},
     "output_type": "execute_result"
    }
   ],
   "source": [
    "len(y_pred)"
   ]
  },
  {
   "cell_type": "code",
   "execution_count": 164,
   "id": "e1700622-230b-484c-aa33-741a5fdbacd7",
   "metadata": {},
   "outputs": [
    {
     "name": "stdout",
     "output_type": "stream",
     "text": [
      "test_accuracy : 0.9158616486362944\n"
     ]
    }
   ],
   "source": [
    "from sklearn.metrics import *\n",
    "test_accuracy=accuracy_score(y_test,y_pred)\n",
    "print(f\"test_accuracy : {test_accuracy}\")"
   ]
  },
  {
   "cell_type": "code",
   "execution_count": 170,
   "id": "a50d4f4c-a6e0-4ee8-8dd1-38605e3b3b07",
   "metadata": {},
   "outputs": [],
   "source": [
    "def predict_sentiment(text):\n",
    "  clean = clean_text(text)\n",
    "  #convert to seq\n",
    "  sequence = loaded_tokenizer.texts_to_sequences([clean]) #[] always the data has to be passed in a list\n",
    "  #padding\n",
    "  padded = pad_sequences(sequence, maxlen=MAX_LEN, padding='post')\n",
    "  #predict\n",
    "  prob = loaded_model.predict(padded, verbose=1)[0][0] #this i am not sure\n",
    "  sentiment = \"Positive\" if prob > 0.5 else \"Negative\"\n",
    "  return sentiment, prob"
   ]
  },
  {
   "cell_type": "code",
   "execution_count": 172,
   "id": "f64ac20e-8043-475b-ac61-1c9adcf435f8",
   "metadata": {},
   "outputs": [],
   "source": [
    "test_sentences = [\n",
    "    \"the packaging was nice but the product tested was not to my liking\",\n",
    "    \"The product was excellent\",\n",
    "    \"I expected my bluetooth headphones to be great but huge dissapointment... noooo bass and little highh!\",\n",
    "    \"i have observed that the products that i have recieved are as per my preferences and requirements and i can not complain\"\n",
    "]"
   ]
  },
  {
   "cell_type": "code",
   "execution_count": 174,
   "id": "89eb4128-b4dc-4fed-8bcb-7b213cf112b3",
   "metadata": {},
   "outputs": [
    {
     "name": "stdout",
     "output_type": "stream",
     "text": [
      "\u001b[1m1/1\u001b[0m \u001b[32m━━━━━━━━━━━━━━━━━━━━\u001b[0m\u001b[37m\u001b[0m \u001b[1m0s\u001b[0m 79ms/step\n"
     ]
    },
    {
     "data": {
      "text/plain": [
       "('Negative', 0.036147717)"
      ]
     },
     "execution_count": 174,
     "metadata": {},
     "output_type": "execute_result"
    }
   ],
   "source": [
    "# test_sentences[1]\n",
    "predict_sentiment(test_sentences[3])"
   ]
  },
  {
   "cell_type": "code",
   "execution_count": 176,
   "id": "8f4d2152-195a-4738-a4fe-1da1ee676794",
   "metadata": {},
   "outputs": [
    {
     "name": "stdout",
     "output_type": "stream",
     "text": [
      "\u001b[1m1/1\u001b[0m \u001b[32m━━━━━━━━━━━━━━━━━━━━\u001b[0m\u001b[37m\u001b[0m \u001b[1m0s\u001b[0m 71ms/step\n"
     ]
    },
    {
     "data": {
      "text/plain": [
       "('Negative', 0.022100754)"
      ]
     },
     "execution_count": 176,
     "metadata": {},
     "output_type": "execute_result"
    }
   ],
   "source": [
    "predict_sentiment(test_sentences[0])"
   ]
  },
  {
   "cell_type": "code",
   "execution_count": 178,
   "id": "f3f5eecb-26b2-4c87-a405-61b96c219a15",
   "metadata": {},
   "outputs": [
    {
     "name": "stdout",
     "output_type": "stream",
     "text": [
      "\u001b[1m1/1\u001b[0m \u001b[32m━━━━━━━━━━━━━━━━━━━━\u001b[0m\u001b[37m\u001b[0m \u001b[1m0s\u001b[0m 161ms/step\n"
     ]
    },
    {
     "data": {
      "text/plain": [
       "('Positive', 0.9714978)"
      ]
     },
     "execution_count": 178,
     "metadata": {},
     "output_type": "execute_result"
    }
   ],
   "source": [
    "predict_sentiment(test_sentences[1])"
   ]
  },
  {
   "cell_type": "code",
   "execution_count": 180,
   "id": "212844ae-da84-4abb-b84e-eaf0faf9b1b8",
   "metadata": {},
   "outputs": [
    {
     "name": "stdout",
     "output_type": "stream",
     "text": [
      "0:the packaging was nice but the product tested was not to my liking\n",
      "1:The product was excellent\n",
      "2:I expected my bluetooth headphones to be great but huge dissapointment... noooo bass and little highh!\n",
      "3:i have observed that the products that i have recieved are as per my preferences and requirements and i can not complain\n"
     ]
    }
   ],
   "source": [
    "for i, sent in enumerate(test_sentences):\n",
    "    print(f\"{i}:{sent}\")"
   ]
  },
  {
   "cell_type": "code",
   "execution_count": null,
   "id": "33fe7f51-a176-4446-8a68-a1fa93647078",
   "metadata": {},
   "outputs": [],
   "source": []
  }
 ],
 "metadata": {
  "kernelspec": {
   "display_name": "Python 3 (ipykernel)",
   "language": "python",
   "name": "python3"
  },
  "language_info": {
   "codemirror_mode": {
    "name": "ipython",
    "version": 3
   },
   "file_extension": ".py",
   "mimetype": "text/x-python",
   "name": "python",
   "nbconvert_exporter": "python",
   "pygments_lexer": "ipython3",
   "version": "3.12.4"
  }
 },
 "nbformat": 4,
 "nbformat_minor": 5
}
